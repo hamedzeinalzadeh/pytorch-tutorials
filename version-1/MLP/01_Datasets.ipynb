{
 "cells": [
  {
   "cell_type": "markdown",
   "id": "85615c18-5314-4ffb-9c44-9e312dc15dbb",
   "metadata": {},
   "source": [
    "# Dataset Processing with Pytorch\n",
    "---"
   ]
  },
  {
   "cell_type": "markdown",
   "id": "24c64cfd-4e96-4fb8-a7b6-b874883e218e",
   "metadata": {},
   "source": [
    "### Perform standard imports"
   ]
  },
  {
   "cell_type": "code",
   "execution_count": 1,
   "id": "08e2c020-1a67-4440-828c-5a295734f896",
   "metadata": {},
   "outputs": [],
   "source": [
    "import torch\n",
    "import numpy as np\n",
    "import pandas as pd\n",
    "import matplotlib.pyplot as plt\n",
    "import seaborn as sns"
   ]
  },
  {
   "cell_type": "markdown",
   "id": "3c477d0a-db87-4aa4-a534-91e8eb498736",
   "metadata": {},
   "source": [
    "### Loading data"
   ]
  },
  {
   "cell_type": "code",
   "execution_count": 2,
   "id": "791002df-44e8-41dc-9d6d-4fb6146bc0f6",
   "metadata": {},
   "outputs": [
    {
     "data": {
      "text/html": [
       "<div>\n",
       "<style scoped>\n",
       "    .dataframe tbody tr th:only-of-type {\n",
       "        vertical-align: middle;\n",
       "    }\n",
       "\n",
       "    .dataframe tbody tr th {\n",
       "        vertical-align: top;\n",
       "    }\n",
       "\n",
       "    .dataframe thead th {\n",
       "        text-align: right;\n",
       "    }\n",
       "</style>\n",
       "<table border=\"1\" class=\"dataframe\">\n",
       "  <thead>\n",
       "    <tr style=\"text-align: right;\">\n",
       "      <th></th>\n",
       "      <th>sepal length (cm)</th>\n",
       "      <th>sepal width (cm)</th>\n",
       "      <th>petal length (cm)</th>\n",
       "      <th>petal width (cm)</th>\n",
       "      <th>target</th>\n",
       "    </tr>\n",
       "  </thead>\n",
       "  <tbody>\n",
       "    <tr>\n",
       "      <th>0</th>\n",
       "      <td>5.1</td>\n",
       "      <td>3.5</td>\n",
       "      <td>1.4</td>\n",
       "      <td>0.2</td>\n",
       "      <td>0.0</td>\n",
       "    </tr>\n",
       "    <tr>\n",
       "      <th>1</th>\n",
       "      <td>4.9</td>\n",
       "      <td>3.0</td>\n",
       "      <td>1.4</td>\n",
       "      <td>0.2</td>\n",
       "      <td>0.0</td>\n",
       "    </tr>\n",
       "    <tr>\n",
       "      <th>2</th>\n",
       "      <td>4.7</td>\n",
       "      <td>3.2</td>\n",
       "      <td>1.3</td>\n",
       "      <td>0.2</td>\n",
       "      <td>0.0</td>\n",
       "    </tr>\n",
       "    <tr>\n",
       "      <th>3</th>\n",
       "      <td>4.6</td>\n",
       "      <td>3.1</td>\n",
       "      <td>1.5</td>\n",
       "      <td>0.2</td>\n",
       "      <td>0.0</td>\n",
       "    </tr>\n",
       "    <tr>\n",
       "      <th>4</th>\n",
       "      <td>5.0</td>\n",
       "      <td>3.6</td>\n",
       "      <td>1.4</td>\n",
       "      <td>0.2</td>\n",
       "      <td>0.0</td>\n",
       "    </tr>\n",
       "  </tbody>\n",
       "</table>\n",
       "</div>"
      ],
      "text/plain": [
       "   sepal length (cm)  sepal width (cm)  petal length (cm)  petal width (cm)  \\\n",
       "0                5.1               3.5                1.4               0.2   \n",
       "1                4.9               3.0                1.4               0.2   \n",
       "2                4.7               3.2                1.3               0.2   \n",
       "3                4.6               3.1                1.5               0.2   \n",
       "4                5.0               3.6                1.4               0.2   \n",
       "\n",
       "   target  \n",
       "0     0.0  \n",
       "1     0.0  \n",
       "2     0.0  \n",
       "3     0.0  \n",
       "4     0.0  "
      ]
     },
     "execution_count": 2,
     "metadata": {},
     "output_type": "execute_result"
    }
   ],
   "source": [
    "df = pd.read_csv('../Data/iris.csv')\n",
    "df.head()"
   ]
  },
  {
   "cell_type": "markdown",
   "id": "49b7ae4d-ce02-4ade-93d9-1ffbc0802b94",
   "metadata": {},
   "source": [
    "### Plot the data"
   ]
  },
  {
   "cell_type": "code",
   "execution_count": 3,
   "id": "9937f936-d303-4afe-a31b-0d700de343df",
   "metadata": {},
   "outputs": [],
   "source": [
    "\n",
    "# df['target_label'] = df['target'].map({0: 'Setosa', 1: 'Virginica', 2: 'Versicolor'})\n",
    "\n",
    "# # Pairplot with modified hue\n",
    "# sns.pairplot(\n",
    "#     df,\n",
    "#     vars=['sepal length (cm)', 'sepal width (cm)', 'petal length (cm)', 'petal width (cm)'],\n",
    "#     hue='target_label',  # Use the new label column for hue\n",
    "#     palette={'Setosa': \"blue\", 'Virginica': \"red\", 'Versicolor': \"green\"}\n",
    "# )\n"
   ]
  },
  {
   "cell_type": "markdown",
   "id": "e04d9da5-23d1-4627-b662-7192d9bf720a",
   "metadata": {},
   "source": [
    "#### Note:\n",
    "Just notice that the unique classes are: \n",
    "\n",
    "- 0-Iris setosa \n",
    "- 1-Iris virginica \n",
    "- 2-Iris versicolor"
   ]
  },
  {
   "cell_type": "markdown",
   "id": "7fc22fea-2dda-4920-beb5-13192a236835",
   "metadata": {},
   "source": [
    "### Classic Method for Train/Test split"
   ]
  },
  {
   "cell_type": "code",
   "execution_count": 4,
   "id": "ca37345c-b18b-4b08-ae62-4d148bfd2a27",
   "metadata": {},
   "outputs": [],
   "source": [
    "from sklearn.model_selection import train_test_split"
   ]
  },
  {
   "cell_type": "code",
   "execution_count": 5,
   "id": "de5bf859-4600-4227-b9ad-076336a3d8fe",
   "metadata": {},
   "outputs": [],
   "source": [
    "train_X, test_X, train_y, test_y = train_test_split(df.drop('target',axis=1).values,\n",
    "                                                    df['target'].values, test_size=0.2,\n",
    "                                                    random_state=42)"
   ]
  },
  {
   "cell_type": "code",
   "execution_count": 6,
   "id": "bfd94290-a1ac-4797-a637-24fa25469336",
   "metadata": {},
   "outputs": [],
   "source": [
    "X_train = torch.tensor(train_X, dtype=torch.float)\n",
    "X_test = torch.tensor(test_X, dtype=torch.float)\n",
    "y_train = torch.tensor(train_y, dtype=torch.int).reshape(-1, 1)\n",
    "y_test = torch.tensor(train_y, dtype=torch.int).reshape(-1, 1)"
   ]
  },
  {
   "cell_type": "markdown",
   "id": "bda2d201-1a6d-42bc-895e-1061eb21fa56",
   "metadata": {},
   "source": [
    "<div class=\"alert alert-info\"><strong>NOTE: </strong>\n",
    "<br>\n",
    "It's up to us to remember which columns correspond to which features.</div>"
   ]
  },
  {
   "cell_type": "code",
   "execution_count": 7,
   "id": "dc9b33a2-002b-4f7d-9c01-f817fee09ddc",
   "metadata": {},
   "outputs": [
    {
     "data": {
      "text/plain": [
       "torch.Size([120, 4])"
      ]
     },
     "execution_count": 7,
     "metadata": {},
     "output_type": "execute_result"
    }
   ],
   "source": [
    "X_train.shape"
   ]
  },
  {
   "cell_type": "code",
   "execution_count": 8,
   "id": "3397b3cb-bbc2-48a5-aa7c-7d5abbf2a249",
   "metadata": {},
   "outputs": [
    {
     "data": {
      "text/plain": [
       "torch.Size([120, 1])"
      ]
     },
     "execution_count": 8,
     "metadata": {},
     "output_type": "execute_result"
    }
   ],
   "source": [
    "y_train.shape"
   ]
  },
  {
   "cell_type": "markdown",
   "id": "346ce158-f73d-4c9c-ae96-c214e8bc0bb8",
   "metadata": {},
   "source": [
    "<div class=\"alert alert-success\"><strong>NOTE: </strong>\n",
    "<br>\n",
    "<strong>Oversampling a less common class</strong> so that it matches the more common classes is always the preferred choice.</div>"
   ]
  },
  {
   "cell_type": "markdown",
   "id": "c5fd353a-6f77-4c28-8258-9a2e73bceaad",
   "metadata": {},
   "source": [
    "## Pytorch Dataset and Dataloader classes\n",
    "It is a far better alternative.\n",
    "<br>\n",
    "First, `TensorDataset` class is used for constructing dataset. Then, `DataLoader` wrap the dataset and provide powerful sampler with single/multi-process iterators over it. "
   ]
  },
  {
   "cell_type": "code",
   "execution_count": 9,
   "id": "1b99bf42-c1a5-49d5-992d-d983b995d916",
   "metadata": {},
   "outputs": [],
   "source": [
    "from torch.utils.data import TensorDataset, DataLoader"
   ]
  },
  {
   "cell_type": "code",
   "execution_count": 10,
   "id": "d110cd76-2f7e-40ee-b4c8-cd1f03753e80",
   "metadata": {},
   "outputs": [],
   "source": [
    "data = torch.tensor(df.drop('target', axis=1).values, dtype=torch.float)\n",
    "labels = torch.tensor(df['target'].values, dtype=torch.int)\n",
    "\n",
    "iris = TensorDataset(data, labels)"
   ]
  },
  {
   "cell_type": "code",
   "execution_count": 11,
   "id": "fb455721-3c89-4fde-8391-af77a0ebc38a",
   "metadata": {},
   "outputs": [
    {
     "data": {
      "text/plain": [
       "<torch.utils.data.dataset.TensorDataset at 0x7fa374531ac0>"
      ]
     },
     "execution_count": 11,
     "metadata": {},
     "output_type": "execute_result"
    }
   ],
   "source": [
    "iris"
   ]
  },
  {
   "cell_type": "code",
   "execution_count": 12,
   "id": "276ec6f3-1211-421d-b782-55064a1a78a0",
   "metadata": {},
   "outputs": [
    {
     "data": {
      "text/plain": [
       "(tensor([4.9000, 3.0000, 1.4000, 0.2000]), tensor(0, dtype=torch.int32))"
      ]
     },
     "execution_count": 12,
     "metadata": {},
     "output_type": "execute_result"
    }
   ],
   "source": [
    "iris[1]"
   ]
  },
  {
   "cell_type": "code",
   "execution_count": 13,
   "id": "bb382fae-e1e5-4802-80ad-d18b32321284",
   "metadata": {},
   "outputs": [
    {
     "data": {
      "text/plain": [
       "150"
      ]
     },
     "execution_count": 13,
     "metadata": {},
     "output_type": "execute_result"
    }
   ],
   "source": [
    "len(iris)"
   ]
  },
  {
   "cell_type": "code",
   "execution_count": 21,
   "id": "085bce87-6c16-4b30-a027-f87dcfd1a08e",
   "metadata": {},
   "outputs": [
    {
     "data": {
      "text/plain": [
       "<torch.utils.data.dataloader.DataLoader at 0x7fa37476ba70>"
      ]
     },
     "execution_count": 21,
     "metadata": {},
     "output_type": "execute_result"
    }
   ],
   "source": [
    "# iris_loader -> for each batch -> tensor_of_data + tensor_of_labels\n",
    "iris_loader = DataLoader(dataset=iris, batch_size=50, shuffle=True)\n",
    "iris_loader"
   ]
  },
  {
   "cell_type": "code",
   "execution_count": 22,
   "id": "6237a67c-2bc1-4f1a-990f-810ed6875a94",
   "metadata": {},
   "outputs": [
    {
     "data": {
      "text/plain": [
       "[tensor([[6.7000, 3.0000, 5.2000, 2.3000],\n",
       "         [4.8000, 3.0000, 1.4000, 0.3000],\n",
       "         [5.6000, 3.0000, 4.5000, 1.5000],\n",
       "         [5.7000, 4.4000, 1.5000, 0.4000],\n",
       "         [5.2000, 3.4000, 1.4000, 0.2000],\n",
       "         [5.4000, 3.7000, 1.5000, 0.2000],\n",
       "         [5.5000, 4.2000, 1.4000, 0.2000],\n",
       "         [6.4000, 2.7000, 5.3000, 1.9000],\n",
       "         [7.0000, 3.2000, 4.7000, 1.4000],\n",
       "         [6.2000, 3.4000, 5.4000, 2.3000],\n",
       "         [5.9000, 3.0000, 4.2000, 1.5000],\n",
       "         [5.1000, 3.8000, 1.6000, 0.2000],\n",
       "         [5.2000, 2.7000, 3.9000, 1.4000],\n",
       "         [6.3000, 3.4000, 5.6000, 2.4000],\n",
       "         [5.7000, 3.8000, 1.7000, 0.3000],\n",
       "         [5.1000, 3.5000, 1.4000, 0.3000],\n",
       "         [6.4000, 3.1000, 5.5000, 1.8000],\n",
       "         [7.7000, 2.6000, 6.9000, 2.3000],\n",
       "         [5.9000, 3.0000, 5.1000, 1.8000],\n",
       "         [5.6000, 2.5000, 3.9000, 1.1000],\n",
       "         [6.5000, 3.0000, 5.2000, 2.0000],\n",
       "         [4.8000, 3.0000, 1.4000, 0.1000],\n",
       "         [6.9000, 3.1000, 5.1000, 2.3000],\n",
       "         [6.7000, 3.1000, 4.4000, 1.4000],\n",
       "         [5.2000, 3.5000, 1.5000, 0.2000],\n",
       "         [4.4000, 2.9000, 1.4000, 0.2000],\n",
       "         [6.8000, 3.2000, 5.9000, 2.3000],\n",
       "         [7.4000, 2.8000, 6.1000, 1.9000],\n",
       "         [5.0000, 2.3000, 3.3000, 1.0000],\n",
       "         [4.4000, 3.2000, 1.3000, 0.2000],\n",
       "         [5.5000, 2.3000, 4.0000, 1.3000],\n",
       "         [6.1000, 3.0000, 4.6000, 1.4000],\n",
       "         [4.8000, 3.1000, 1.6000, 0.2000],\n",
       "         [4.5000, 2.3000, 1.3000, 0.3000],\n",
       "         [6.1000, 2.6000, 5.6000, 1.4000],\n",
       "         [6.3000, 2.5000, 4.9000, 1.5000],\n",
       "         [6.9000, 3.1000, 4.9000, 1.5000],\n",
       "         [5.5000, 2.4000, 3.8000, 1.1000],\n",
       "         [5.7000, 2.8000, 4.1000, 1.3000],\n",
       "         [5.6000, 2.8000, 4.9000, 2.0000],\n",
       "         [7.2000, 3.0000, 5.8000, 1.6000],\n",
       "         [7.9000, 3.8000, 6.4000, 2.0000],\n",
       "         [6.2000, 2.8000, 4.8000, 1.8000],\n",
       "         [5.4000, 3.4000, 1.5000, 0.4000],\n",
       "         [6.7000, 3.1000, 4.7000, 1.5000],\n",
       "         [5.1000, 3.4000, 1.5000, 0.2000],\n",
       "         [5.0000, 3.2000, 1.2000, 0.2000],\n",
       "         [4.9000, 2.4000, 3.3000, 1.0000],\n",
       "         [7.7000, 3.0000, 6.1000, 2.3000],\n",
       "         [5.5000, 2.6000, 4.4000, 1.2000]]),\n",
       " tensor([2, 0, 1, 0, 0, 0, 0, 2, 1, 2, 1, 0, 1, 2, 0, 0, 2, 2, 2, 1, 2, 0, 2, 1,\n",
       "         0, 0, 2, 2, 1, 0, 1, 1, 0, 0, 2, 1, 1, 1, 1, 2, 2, 2, 2, 0, 1, 0, 0, 1,\n",
       "         2, 1], dtype=torch.int32)]"
      ]
     },
     "execution_count": 22,
     "metadata": {},
     "output_type": "execute_result"
    }
   ],
   "source": [
    "next(iter(iris_loader))"
   ]
  },
  {
   "cell_type": "code",
   "execution_count": 28,
   "id": "9d4dbcbd-bfed-47f2-ae28-2561a5d906a6",
   "metadata": {},
   "outputs": [
    {
     "data": {
      "text/plain": [
       "tensor([19, 11, 20])"
      ]
     },
     "execution_count": 28,
     "metadata": {},
     "output_type": "execute_result"
    }
   ],
   "source": [
    "# Show the number of label occurence in a batch\n",
    "list(iris_loader)[0][1].bincount()"
   ]
  }
 ],
 "metadata": {
  "kernelspec": {
   "display_name": "Python 3 (ipykernel)",
   "language": "python",
   "name": "python3"
  },
  "language_info": {
   "codemirror_mode": {
    "name": "ipython",
    "version": 3
   },
   "file_extension": ".py",
   "mimetype": "text/x-python",
   "name": "python",
   "nbconvert_exporter": "python",
   "pygments_lexer": "ipython3",
   "version": "3.12.7"
  }
 },
 "nbformat": 4,
 "nbformat_minor": 5
}
