{
 "cells": [
  {
   "cell_type": "markdown",
   "id": "ca2a2fb7-15e0-4d81-9a28-95d6c92381ce",
   "metadata": {},
   "source": [
    "# **Pytorch Basics**\n",
    "---\n",
    "\n",
    "Make sure that you have installed pytorch using the following command.\n",
    "\n",
    "```python \n",
    "torch.__version__\n",
    "```"
   ]
  },
  {
   "cell_type": "markdown",
   "id": "f80c308f-f16c-499f-a0da-d2f5c6a43afa",
   "metadata": {},
   "source": [
    "## Imports"
   ]
  },
  {
   "cell_type": "code",
   "execution_count": 1,
   "id": "551efd63-d1bb-48b2-9f87-200b545af3c1",
   "metadata": {},
   "outputs": [],
   "source": [
    "import torch\n",
    "import numpy as np"
   ]
  },
  {
   "cell_type": "markdown",
   "id": "e7df3289-0ed7-4a62-afd9-c9df5f173bba",
   "metadata": {},
   "source": [
    "# Tensor Basics\n",
    "A torch.Tensor is a multi-dimensional matrix containing elements of a single data type. Check out the link for more details about **torch.tensor** and **Data Types**:\n",
    "\n",
    "https://pytorch.org/docs/stable/tensors.html"
   ]
  },
  {
   "cell_type": "markdown",
   "id": "3d0e3f46-ac27-42a3-9251-4b822d06a4ef",
   "metadata": {},
   "source": [
    "## Converting Numpy Arrays to Pytorch Tensors"
   ]
  },
  {
   "cell_type": "code",
   "execution_count": 2,
   "id": "55bbf859-01d9-48eb-870c-4a1c37c93a82",
   "metadata": {},
   "outputs": [
    {
     "name": "stdout",
     "output_type": "stream",
     "text": [
      "<class 'numpy.ndarray'>\n",
      "int64\n"
     ]
    }
   ],
   "source": [
    "arr = np.array([1,2,3,4,5])\n",
    "print(type(arr))\n",
    "print(arr.dtype)"
   ]
  },
  {
   "cell_type": "code",
   "execution_count": 3,
   "id": "aa84ff83-aa5e-429c-a56d-f91fad181e9a",
   "metadata": {},
   "outputs": [
    {
     "name": "stdout",
     "output_type": "stream",
     "text": [
      "tensor([1, 2, 3, 4, 5])\n",
      "<class 'torch.Tensor'>\n",
      "torch.int64\n",
      "torch.LongTensor\n"
     ]
    }
   ],
   "source": [
    "x = torch.from_numpy(arr)\n",
    "# Equivalent to x = torch.as_tensor(arr)\n",
    "print(x)\n",
    "print(type(x))\n",
    "print(x.dtype)\n",
    "print(x.type())"
   ]
  },
  {
   "cell_type": "code",
   "execution_count": 4,
   "id": "15fcea4e-0dfe-48df-9673-e4194735a656",
   "metadata": {},
   "outputs": [
    {
     "name": "stdout",
     "output_type": "stream",
     "text": [
      "tensor([[0., 1., 2.],\n",
      "        [3., 4., 5.],\n",
      "        [6., 7., 8.]], dtype=torch.float64)\n",
      "torch.float64\n",
      "torch.DoubleTensor\n"
     ]
    }
   ],
   "source": [
    "# Floating point datatypes\n",
    "arr2 = np.arange(0.,9.).reshape(3,3)\n",
    "x2 = torch.from_numpy(arr2)\n",
    "print(x2)\n",
    "print(x2.dtype)\n",
    "print(x2.type())"
   ]
  },
  {
   "cell_type": "markdown",
   "id": "ffbd585b-7032-47ce-b45a-6b309a82bff2",
   "metadata": {},
   "source": [
    "## Copy and Share Memory(from Numpy array to Pytorch tensor)\n",
    "Im the commands below, the Pytorch tensor and Numpy array **share** the memory, and changes to one affects another:\n",
    "```python\n",
    "torch.from_numpy()\n",
    "torch.as_tensor()\n",
    "```\n",
    "\n",
    "But, the function below makes a **Copy**:\n",
    "```python\n",
    "torch.tensor()\n",
    "```"
   ]
  },
  {
   "cell_type": "code",
   "execution_count": 5,
   "id": "e498e5e3-1d66-47c0-98db-d486c2516e8b",
   "metadata": {},
   "outputs": [
    {
     "name": "stdout",
     "output_type": "stream",
     "text": [
      "Old value:  tensor([0, 1, 2, 3, 4])\n",
      "New value:  tensor([ 0,  1, 77,  3,  4])\n"
     ]
    }
   ],
   "source": [
    "# Use torch.from_numpy()\n",
    "arr = np.arange(0,5)\n",
    "tensor_ = torch.from_numpy(arr)\n",
    "print('Old value: ', tensor_)\n",
    "\n",
    "# Change one elemtent of Numpy array\n",
    "arr[2]=77\n",
    "print('New value: ', tensor_)"
   ]
  },
  {
   "cell_type": "code",
   "execution_count": 6,
   "id": "1b39105d-1aff-4fff-8415-4577f18e27f3",
   "metadata": {},
   "outputs": [
    {
     "name": "stdout",
     "output_type": "stream",
     "text": [
      "Old value:  tensor([0, 1, 2])\n",
      "New value:  tensor([0, 1, 2])\n"
     ]
    }
   ],
   "source": [
    "# Use torch.tensor()\n",
    "arr = np.arange(0,3)\n",
    "tensor_ = torch.tensor(arr)\n",
    "print('Old value: ', tensor_)\n",
    "\n",
    "# Change one elemtent of Numpy array\n",
    "arr[2]=77\n",
    "print('New value: ', tensor_)"
   ]
  },
  {
   "cell_type": "markdown",
   "id": "1c8e1dda-4d7d-4616-a290-4353d9db063c",
   "metadata": {},
   "source": [
    "## Class Constructors\n",
    "The factory function below, determines the dtype from the input data:\n",
    "```python\n",
    "torch.tensor(data)\n",
    "```\n",
    "\n",
    "The class constuctor below is an **alias** for `torch.FloatTensor(data)`:\n",
    "```python\n",
    "torch.Tensor(data)\n",
    "```"
   ]
  },
  {
   "cell_type": "code",
   "execution_count": 7,
   "id": "7ea72d37-ad86-4bc8-b78d-ffded9221dfd",
   "metadata": {},
   "outputs": [
    {
     "name": "stdout",
     "output_type": "stream",
     "text": [
      "tensor([1., 2., 3.])\n",
      "torch.FloatTensor\n"
     ]
    }
   ],
   "source": [
    "data = np.array([1,2,3])\n",
    "a = torch.Tensor(data)  # Equivalent to a = torch.FloatTensor(data)\n",
    "print(a)\n",
    "print(a.type())"
   ]
  },
  {
   "cell_type": "code",
   "execution_count": 8,
   "id": "8749633b-2c38-45c2-b27b-e41c571e5438",
   "metadata": {},
   "outputs": [
    {
     "name": "stdout",
     "output_type": "stream",
     "text": [
      "tensor([1, 2, 3])\n",
      "torch.LongTensor\n"
     ]
    }
   ],
   "source": [
    "b = torch.tensor(data)\n",
    "print(b)\n",
    "print(b.type())"
   ]
  },
  {
   "cell_type": "code",
   "execution_count": 9,
   "id": "296ae1c4-6d7b-46bd-850e-1bdb46404181",
   "metadata": {},
   "outputs": [
    {
     "name": "stdout",
     "output_type": "stream",
     "text": [
      "tensor([1, 2, 3], dtype=torch.int32)\n",
      "torch.IntTensor\n"
     ]
    }
   ],
   "source": [
    "c = torch.tensor(data, dtype=torch.int32)\n",
    "print(c)\n",
    "print(c.type())"
   ]
  },
  {
   "cell_type": "markdown",
   "id": "cbc68fb5-3305-434c-9519-f03405550645",
   "metadata": {},
   "source": [
    "## Create Pytorch Tensor Directly\n",
    "\n",
    "### Tensor Initialization\n",
    "The command below, creates a tensor without initializing its values. It allocates a block of memory based on the tensor's size and returns the values that happen to be in that memory block, which is similar to how `numpy.empty()` works:\n",
    "```python\n",
    "torch.empty()\n",
    "```"
   ]
  },
  {
   "cell_type": "code",
   "execution_count": 10,
   "id": "80cd74e2-a6c3-4b67-bcce-92bb417a048d",
   "metadata": {},
   "outputs": [
    {
     "name": "stdout",
     "output_type": "stream",
     "text": [
      "tensor([[ 1.5456e-42,  0.0000e+00, -2.6438e+13],\n",
      "        [ 3.0641e-41,  3.2230e-44,  0.0000e+00]])\n"
     ]
    }
   ],
   "source": [
    "x = torch.empty(2, 3)\n",
    "print(x)"
   ]
  },
  {
   "cell_type": "markdown",
   "id": "6c2f4434-1bb1-4735-a5f2-eb7f23449061",
   "metadata": {},
   "source": [
    "### Zeros and Ones\n"
   ]
  },
  {
   "cell_type": "code",
   "execution_count": 11,
   "id": "e70ba50c-fcc0-4a62-8071-3029a70050cb",
   "metadata": {},
   "outputs": [
    {
     "name": "stdout",
     "output_type": "stream",
     "text": [
      "tensor([[0, 0, 0],\n",
      "        [0, 0, 0]])\n"
     ]
    }
   ],
   "source": [
    "x = torch.zeros(2, 3, dtype=torch.int64)\n",
    "print(x)"
   ]
  },
  {
   "cell_type": "code",
   "execution_count": 12,
   "id": "cff37769-9863-4c27-bad7-580eab38c799",
   "metadata": {},
   "outputs": [
    {
     "name": "stdout",
     "output_type": "stream",
     "text": [
      "tensor([[1., 1., 1.],\n",
      "        [1., 1., 1.]], dtype=torch.float16)\n"
     ]
    }
   ],
   "source": [
    "y = torch.ones(2, 3, dtype=torch.float16)\n",
    "print(y)"
   ]
  },
  {
   "cell_type": "markdown",
   "id": "83a39c1b-bd11-42e7-954c-3266b7dbc5ca",
   "metadata": {},
   "source": [
    "## Tensor from Ranges\n",
    "The `step`in the `arange` is **exclusive**, but in `linspace` is **inclusive**.\n",
    "```python\n",
    "torch.arange(start,end,step)\n",
    "```\n",
    "\n",
    "```python\n",
    "torch.linspace(start,end,steps)\n",
    "```"
   ]
  },
  {
   "cell_type": "code",
   "execution_count": 13,
   "id": "be7d1e9c-3df2-4d48-bf32-e9d62dd9bddb",
   "metadata": {},
   "outputs": [
    {
     "data": {
      "text/plain": [
       "tensor([[0, 2],\n",
       "        [4, 6]])"
      ]
     },
     "execution_count": 13,
     "metadata": {},
     "output_type": "execute_result"
    }
   ],
   "source": [
    "x = torch.arange(0,7,2).reshape(2,2)\n",
    "x"
   ]
  },
  {
   "cell_type": "code",
   "execution_count": 14,
   "id": "402f4300-5277-419a-9015-b2b8cf67635d",
   "metadata": {},
   "outputs": [
    {
     "data": {
      "text/plain": [
       "tensor([[0., 1., 2., 3., 4.],\n",
       "        [5., 6., 7., 8., 9.]])"
      ]
     },
     "execution_count": 14,
     "metadata": {},
     "output_type": "execute_result"
    }
   ],
   "source": [
    "x = torch.linspace(0,9,10).reshape(2,5)\n",
    "x"
   ]
  },
  {
   "cell_type": "markdown",
   "id": "97a071b8-8bb4-4e4c-9885-804453b31e76",
   "metadata": {},
   "source": [
    "## Tensor from Data"
   ]
  },
  {
   "cell_type": "code",
   "execution_count": 15,
   "id": "6dcea274-3305-406a-9b9c-fa29e7582d1f",
   "metadata": {},
   "outputs": [
    {
     "name": "stdout",
     "output_type": "stream",
     "text": [
      "tensor([1, 2, 3])\n",
      "torch.int64\n",
      "torch.LongTensor\n"
     ]
    }
   ],
   "source": [
    "# torch.tensor() choose the dtype based on the input data.\n",
    "x = torch.tensor([1, 2, 3])\n",
    "print(x)\n",
    "print(x.dtype)\n",
    "print(x.type())"
   ]
  },
  {
   "cell_type": "code",
   "execution_count": 16,
   "id": "11fbe3a2-7017-41a7-9ee5-ca35c9adf5af",
   "metadata": {},
   "outputs": [
    {
     "name": "stdout",
     "output_type": "stream",
     "text": [
      "tensor([5., 6., 7.])\n",
      "torch.float32\n",
      "torch.FloatTensor\n"
     ]
    }
   ],
   "source": [
    "# Set the type by the tensor method\n",
    "x = torch.FloatTensor([5,6,7])\n",
    "print(x)\n",
    "print(x.dtype)\n",
    "print(x.type())"
   ]
  },
  {
   "cell_type": "code",
   "execution_count": 17,
   "id": "0ebe54d2-e0a3-42de-9405-fd8138c5682f",
   "metadata": {},
   "outputs": [
    {
     "name": "stdout",
     "output_type": "stream",
     "text": [
      "tensor([ 8,  1, -3], dtype=torch.int32)\n",
      "torch.int32\n",
      "torch.IntTensor\n"
     ]
    }
   ],
   "source": [
    "# Set the dtype parameter\n",
    "x = torch.tensor([8,1,-3], dtype=torch.int32)\n",
    "print(x)\n",
    "print(x.dtype)\n",
    "print(x.type())"
   ]
  },
  {
   "cell_type": "markdown",
   "id": "165cd07c-d08f-4129-b7dd-40de3e35fb22",
   "metadata": {},
   "source": [
    "## Change dtype of Created Tensor\n",
    "instead of using the command below that raise a warning of improper use of tensor cloning:\n",
    "```python\n",
    "x = torch.tensor(x, dtype=torch.int)\n",
    "```\n",
    "use the method below:\n",
    "```python\n",
    "x.type()\n",
    "```"
   ]
  },
  {
   "cell_type": "code",
   "execution_count": 18,
   "id": "6a591a32-3f1c-4636-a88d-90a5e0578179",
   "metadata": {},
   "outputs": [
    {
     "name": "stdout",
     "output_type": "stream",
     "text": [
      "Old: torch.int32\n",
      "New: torch.int64\n"
     ]
    }
   ],
   "source": [
    "print('Old:', x.dtype)\n",
    "\n",
    "x = x.type(torch.int64)\n",
    "print('New:', x.dtype)"
   ]
  },
  {
   "cell_type": "markdown",
   "id": "fb1ddc47-c5d0-44e2-98f3-1f8985b35f1b",
   "metadata": {},
   "source": [
    "## Random Numbers in Tensors\n",
    "```python\n",
    "# Returns random integers from low(inclusive) to high(exclusive)\n",
    "torch.randint(low,high,size) \n",
    "\n",
    "# Returns samples from a standard normal distribution\n",
    "torch.randn(size)\n",
    "\n",
    "# Returns samples from a uniform distribution over [0, 1)\n",
    "torch.rand(size)"
   ]
  },
  {
   "cell_type": "code",
   "execution_count": 19,
   "id": "fceeb2a4-ad38-4f90-969d-3e58db7ab281",
   "metadata": {},
   "outputs": [
    {
     "data": {
      "text/plain": [
       "tensor([[0, 0, 2],\n",
       "        [0, 0, 0]])"
      ]
     },
     "execution_count": 19,
     "metadata": {},
     "output_type": "execute_result"
    }
   ],
   "source": [
    "x = torch.randint(0, 4, (2, 3))\n",
    "x"
   ]
  },
  {
   "cell_type": "code",
   "execution_count": 20,
   "id": "eb5d293d-7ec1-42ac-914b-1774968a3ec8",
   "metadata": {},
   "outputs": [
    {
     "data": {
      "text/plain": [
       "tensor([[ 1.2136,  1.2405, -0.4074],\n",
       "        [-0.8377, -0.3012, -0.7346],\n",
       "        [ 0.6592,  0.4498,  1.5651]])"
      ]
     },
     "execution_count": 20,
     "metadata": {},
     "output_type": "execute_result"
    }
   ],
   "source": [
    "x = torch.randn(3,3)\n",
    "x"
   ]
  },
  {
   "cell_type": "code",
   "execution_count": 21,
   "id": "ff25a5b9-0899-4a8f-8176-5591861298f1",
   "metadata": {},
   "outputs": [
    {
     "data": {
      "text/plain": [
       "tensor([[0.3812, 0.5708, 0.7261],\n",
       "        [0.3066, 0.9985, 0.1302],\n",
       "        [0.7964, 0.2526, 0.0702]])"
      ]
     },
     "execution_count": 21,
     "metadata": {},
     "output_type": "execute_result"
    }
   ],
   "source": [
    "x = torch.rand(3,3)\n",
    "x"
   ]
  },
  {
   "cell_type": "markdown",
   "id": "ef93e115-0037-40a9-9f8a-660145b13b5b",
   "metadata": {},
   "source": [
    "## Random Number Tensors Based on Input Size\n",
    "The commands below returns the random tensor based on the input size:\n",
    "```python\n",
    "torch.randint_like(input,low,high)\n",
    "torch.randn_like(input)\n",
    "torch.rand_like(input)\n",
    "```\n",
    "\n",
    "**Note**: The same syntax can be used for zeros and ones:\n",
    "```python\n",
    "tensor.zeros_like(size)\n",
    "tensor.ones_like(size)\n",
    "```"
   ]
  },
  {
   "cell_type": "code",
   "execution_count": 22,
   "id": "d3d53140-ae0b-481a-bccb-4aebaba83020",
   "metadata": {},
   "outputs": [
    {
     "data": {
      "text/plain": [
       "tensor([[0., 0.],\n",
       "        [0., 0.]])"
      ]
     },
     "execution_count": 22,
     "metadata": {},
     "output_type": "execute_result"
    }
   ],
   "source": [
    "x = torch.zeros(2,2)\n",
    "x"
   ]
  },
  {
   "cell_type": "code",
   "execution_count": 23,
   "id": "7db1425e-80fb-40c6-9180-d81c05754807",
   "metadata": {},
   "outputs": [
    {
     "data": {
      "text/plain": [
       "tensor([[0., 0.],\n",
       "        [0., 2.]])"
      ]
     },
     "execution_count": 23,
     "metadata": {},
     "output_type": "execute_result"
    }
   ],
   "source": [
    "# Notice the elements follow the input datatype\n",
    "x1 = torch.randint_like(x,0,4)\n",
    "x1"
   ]
  },
  {
   "cell_type": "code",
   "execution_count": 24,
   "id": "c6ce1786-f2d3-4eaf-b9bc-53423c11df2e",
   "metadata": {},
   "outputs": [
    {
     "data": {
      "text/plain": [
       "tensor([[1., 1.],\n",
       "        [1., 1.]])"
      ]
     },
     "execution_count": 24,
     "metadata": {},
     "output_type": "execute_result"
    }
   ],
   "source": [
    "x2 = torch.ones_like(x)\n",
    "x2"
   ]
  },
  {
   "cell_type": "markdown",
   "id": "cb72444c-d4e7-4f5c-ac34-d12c1cad8c74",
   "metadata": {},
   "source": [
    "## Set the Random Seed\n",
    "```python\n",
    "# For getting reproducable results\n",
    "torch.manual_seed(int)\n",
    "```"
   ]
  },
  {
   "cell_type": "code",
   "execution_count": 25,
   "id": "fe6091f3-da12-4e26-913b-610945c07c2b",
   "metadata": {},
   "outputs": [
    {
     "data": {
      "text/plain": [
       "tensor([[0.4581, 0.4829, 0.3125],\n",
       "        [0.6150, 0.2139, 0.4118],\n",
       "        [0.6938, 0.9693, 0.6178]])"
      ]
     },
     "execution_count": 25,
     "metadata": {},
     "output_type": "execute_result"
    }
   ],
   "source": [
    "torch.manual_seed(10)\n",
    "x = torch.rand(3, 3)\n",
    "x"
   ]
  },
  {
   "cell_type": "code",
   "execution_count": 26,
   "id": "c689908d-6af5-462b-b643-db33f976c03d",
   "metadata": {},
   "outputs": [
    {
     "data": {
      "text/plain": [
       "tensor([[0.4581, 0.4829, 0.3125],\n",
       "        [0.6150, 0.2139, 0.4118],\n",
       "        [0.6938, 0.9693, 0.6178]])"
      ]
     },
     "execution_count": 26,
     "metadata": {},
     "output_type": "execute_result"
    }
   ],
   "source": [
    "# The result should be the same as the former block\n",
    "torch.manual_seed(10)\n",
    "x = torch.rand(3, 3)\n",
    "x"
   ]
  },
  {
   "cell_type": "markdown",
   "id": "b9ae79ce-f69c-458b-b182-1b11b94bdca5",
   "metadata": {},
   "source": [
    "## Tensor Attributes\n",
    "Each torch.Tensor has a `torch.dtype`, `torch.device`, and `torch.layout`.\n",
    "https://pytorch.org/docs/stable/tensor_attributes.html"
   ]
  },
  {
   "cell_type": "code",
   "execution_count": 27,
   "id": "ba530ad9-8f71-461a-9cbb-10e7f0de7947",
   "metadata": {},
   "outputs": [
    {
     "data": {
      "text/plain": [
       "tensor([[0.4581, 0.4829, 0.3125],\n",
       "        [0.6150, 0.2139, 0.4118],\n",
       "        [0.6938, 0.9693, 0.6178]])"
      ]
     },
     "execution_count": 27,
     "metadata": {},
     "output_type": "execute_result"
    }
   ],
   "source": [
    "x"
   ]
  },
  {
   "cell_type": "code",
   "execution_count": 28,
   "id": "5564259d-2440-49cb-9344-971615f54a3d",
   "metadata": {},
   "outputs": [
    {
     "data": {
      "text/plain": [
       "torch.Size([3, 3])"
      ]
     },
     "execution_count": 28,
     "metadata": {},
     "output_type": "execute_result"
    }
   ],
   "source": [
    "x.shape # Equivalent to x.size()"
   ]
  },
  {
   "cell_type": "code",
   "execution_count": 29,
   "id": "e8b8ee10-2f85-490e-b5cf-ea42e03eb8ef",
   "metadata": {},
   "outputs": [
    {
     "data": {
      "text/plain": [
       "torch.float32"
      ]
     },
     "execution_count": 29,
     "metadata": {},
     "output_type": "execute_result"
    }
   ],
   "source": [
    "x.dtype"
   ]
  },
  {
   "cell_type": "markdown",
   "id": "24b69d48-9adf-486c-b2a4-7e807497977b",
   "metadata": {},
   "source": [
    "**Note:** \n",
    "\n",
    "PyTorch allows the utilization of multiple computing devices, including the use of both **CPUs** and one or more **GPUs**. It is important to understand that for any operations to occur between tensors, these **tensors must be located on the same device**.\n",
    "\n",
    "https://pytorch.org/docs/stable/tensor_attributes.html#torch-device"
   ]
  },
  {
   "cell_type": "code",
   "execution_count": 30,
   "id": "71b25bf6-9ca3-41ca-a170-7126ed716863",
   "metadata": {},
   "outputs": [
    {
     "data": {
      "text/plain": [
       "device(type='cpu')"
      ]
     },
     "execution_count": 30,
     "metadata": {},
     "output_type": "execute_result"
    }
   ],
   "source": [
    "x.device"
   ]
  },
  {
   "cell_type": "markdown",
   "id": "8e2ad333-4ab5-4fab-9fc4-991ccb3a6385",
   "metadata": {},
   "source": [
    "---\n",
    "\n",
    "# Tensor Operations\n",
    "- Indexing and slicing\n",
    "- Reshape(views)\n",
    "- Arithmetic and basic operations\n",
    "- Dot products\n",
    "- Matrix multiplication\n",
    "- Advanced operatoins"
   ]
  },
  {
   "cell_type": "markdown",
   "id": "4a181899-62a0-4af7-aae3-614d8b92d79c",
   "metadata": {},
   "source": [
    "### Indexing and Slicing\n",
    "Check out the link for more intuitive illustration:\n",
    "\n",
    "http://www.scipy-lectures.org/_images/numpy_indexing.png"
   ]
  },
  {
   "cell_type": "code",
   "execution_count": 31,
   "id": "663d3f50-d9d1-4113-afed-bb3456324233",
   "metadata": {},
   "outputs": [
    {
     "data": {
      "text/plain": [
       "tensor([[0, 1],\n",
       "        [2, 3]])"
      ]
     },
     "execution_count": 31,
     "metadata": {},
     "output_type": "execute_result"
    }
   ],
   "source": [
    "x = torch.arange(4).reshape(2,2)\n",
    "x"
   ]
  },
  {
   "cell_type": "code",
   "execution_count": 32,
   "id": "d051c6d6-3f81-498e-b754-81ee2b52ee9d",
   "metadata": {},
   "outputs": [
    {
     "data": {
      "text/plain": [
       "tensor([1, 3])"
      ]
     },
     "execution_count": 32,
     "metadata": {},
     "output_type": "execute_result"
    }
   ],
   "source": [
    "# Grabbing the right hand column values\n",
    "x[:,1]"
   ]
  },
  {
   "cell_type": "code",
   "execution_count": 33,
   "id": "85b82d7c-71b8-4a88-937c-68bc1866adac",
   "metadata": {},
   "outputs": [
    {
     "data": {
      "text/plain": [
       "tensor([[1],\n",
       "        [3]])"
      ]
     },
     "execution_count": 33,
     "metadata": {},
     "output_type": "execute_result"
    }
   ],
   "source": [
    "# Grabbing the right hand column as a (2,1) slice\n",
    "x[:,1:]"
   ]
  },
  {
   "cell_type": "markdown",
   "id": "555fa746-643f-4fa5-9e1f-87d66b57fd42",
   "metadata": {},
   "source": [
    "### Reshape\n",
    "The commands below could be used:\n",
    "```python\n",
    "x.reshape(size)\n",
    "x.view(size)\n",
    "```\n",
    "Check the link for more explanation about `view` and `reshape`:\n",
    "\n",
    "https://stackoverflow.com/questions/49643225/whats-the-difference-between-reshape-and-view-in-pytorch"
   ]
  },
  {
   "cell_type": "code",
   "execution_count": 34,
   "id": "709ffac2-084c-4d17-9db2-54d42627c951",
   "metadata": {},
   "outputs": [
    {
     "data": {
      "text/plain": [
       "tensor([0, 1, 2, 3, 4, 5])"
      ]
     },
     "execution_count": 34,
     "metadata": {},
     "output_type": "execute_result"
    }
   ],
   "source": [
    "x = torch.arange(6)\n",
    "x"
   ]
  },
  {
   "cell_type": "code",
   "execution_count": 35,
   "id": "3d4e9533-ef1a-4d2b-820c-e5f89afe8a21",
   "metadata": {},
   "outputs": [
    {
     "data": {
      "text/plain": [
       "tensor([[0, 1, 2],\n",
       "        [3, 4, 5]])"
      ]
     },
     "execution_count": 35,
     "metadata": {},
     "output_type": "execute_result"
    }
   ],
   "source": [
    "x.view(2,3)"
   ]
  },
  {
   "cell_type": "code",
   "execution_count": 36,
   "id": "19debfe4-5511-4dd2-9d33-476441d5241c",
   "metadata": {},
   "outputs": [
    {
     "data": {
      "text/plain": [
       "tensor([0, 1, 2, 3, 4, 5])"
      ]
     },
     "execution_count": 36,
     "metadata": {},
     "output_type": "execute_result"
    }
   ],
   "source": [
    "# The original Tensor remains unchanged\n",
    "x"
   ]
  },
  {
   "cell_type": "code",
   "execution_count": 37,
   "id": "23fec3ad-039a-4303-ad4e-e290712d1c6e",
   "metadata": {},
   "outputs": [
    {
     "name": "stdout",
     "output_type": "stream",
     "text": [
      "tensor([[234,   1,   2],\n",
      "        [  3,   4,   5]])\n"
     ]
    }
   ],
   "source": [
    "# \"view\" and \"reshape\" share the same memory with the original tensor\n",
    "z = x.view(2,3)\n",
    "x[0]=234\n",
    "print(z)"
   ]
  },
  {
   "cell_type": "code",
   "execution_count": 38,
   "id": "6ef10585-8d29-4bd7-aa63-78cd621a44f0",
   "metadata": {},
   "outputs": [
    {
     "name": "stdout",
     "output_type": "stream",
     "text": [
      "tensor([[230,   1,   2],\n",
      "        [  3,   4,   5]])\n"
     ]
    }
   ],
   "source": [
    "z = x.reshape(2,3)\n",
    "x[0]=230\n",
    "print(z)"
   ]
  },
  {
   "cell_type": "code",
   "execution_count": 39,
   "id": "c9a74543-a7a8-4d79-8116-335984e7b4c8",
   "metadata": {},
   "outputs": [
    {
     "data": {
      "text/plain": [
       "tensor([[230,   1,   2],\n",
       "        [  3,   4,   5]])"
      ]
     },
     "execution_count": 39,
     "metadata": {},
     "output_type": "execute_result"
    }
   ],
   "source": [
    "# Infer the correct size by passing -1\n",
    "x.view(2,-1)"
   ]
  },
  {
   "cell_type": "code",
   "execution_count": 40,
   "id": "3bff0d6a-594d-4314-a075-3e548493fb52",
   "metadata": {},
   "outputs": [
    {
     "data": {
      "text/plain": [
       "tensor([[230,   1,   2],\n",
       "        [  3,   4,   5]])"
      ]
     },
     "execution_count": 40,
     "metadata": {},
     "output_type": "execute_result"
    }
   ],
   "source": [
    "# Adopt with another input size\n",
    "x.view_as(z)"
   ]
  },
  {
   "cell_type": "code",
   "execution_count": 41,
   "id": "1e462de1-e0de-422a-8d20-fa9cb7f91840",
   "metadata": {},
   "outputs": [
    {
     "data": {
      "text/plain": [
       "torch.Size([2, 3])"
      ]
     },
     "execution_count": 41,
     "metadata": {},
     "output_type": "execute_result"
    }
   ],
   "source": [
    "z.shape"
   ]
  },
  {
   "cell_type": "markdown",
   "id": "bb52c3fe-5f61-4431-9dc7-827a2eaec366",
   "metadata": {},
   "source": [
    "## Tensor Arithmetic\n",
    "Adding tensors could be done in different ways:"
   ]
  },
  {
   "cell_type": "code",
   "execution_count": 42,
   "id": "14c6cf8a-b329-4d39-ae41-5045c9e622ee",
   "metadata": {},
   "outputs": [
    {
     "data": {
      "text/plain": [
       "tensor([5., 7., 9.])"
      ]
     },
     "execution_count": 42,
     "metadata": {},
     "output_type": "execute_result"
    }
   ],
   "source": [
    "a = torch.tensor([1,2,3], dtype=torch.float)\n",
    "b = torch.tensor([4,5,6], dtype=torch.float)\n",
    "a + b"
   ]
  },
  {
   "cell_type": "code",
   "execution_count": 43,
   "id": "c22b440f-5518-4720-bda9-43cf09296d9a",
   "metadata": {},
   "outputs": [
    {
     "data": {
      "text/plain": [
       "tensor([5., 7., 9.])"
      ]
     },
     "execution_count": 43,
     "metadata": {},
     "output_type": "execute_result"
    }
   ],
   "source": [
    "# As an argument to a torch operation\n",
    "torch.add(a, b)"
   ]
  },
  {
   "cell_type": "code",
   "execution_count": 44,
   "id": "9ed7d1dd-0ff4-455b-8af4-ade166f4f85e",
   "metadata": {},
   "outputs": [
    {
     "data": {
      "text/plain": [
       "tensor([5., 7., 9.])"
      ]
     },
     "execution_count": 44,
     "metadata": {},
     "output_type": "execute_result"
    }
   ],
   "source": [
    "torch.add(a, b)"
   ]
  },
  {
   "cell_type": "code",
   "execution_count": 45,
   "id": "9ea59836-bbe4-4827-a10e-c8319bd02bce",
   "metadata": {},
   "outputs": [
    {
     "data": {
      "text/plain": [
       "tensor([5., 7., 9.])"
      ]
     },
     "execution_count": 45,
     "metadata": {},
     "output_type": "execute_result"
    }
   ],
   "source": [
    "# Specify the output tensor\n",
    "result = torch.empty(3)\n",
    "torch.add(a, b, out=result)  # equivalent to result=torch.add(a,b)\n",
    "result"
   ]
  },
  {
   "cell_type": "markdown",
   "id": "f1f2123d-1cfb-4a27-8ed5-673ef0b73a3a",
   "metadata": {},
   "source": [
    "**Note:**\n",
    "\n",
    "Any operation that changes a tensor in-place, prefixed with a `_`(underscore)."
   ]
  },
  {
   "cell_type": "code",
   "execution_count": 46,
   "id": "f4c9d7be-4f5e-4ec0-8823-ef7e3ed38a8a",
   "metadata": {},
   "outputs": [
    {
     "data": {
      "text/plain": [
       "tensor([5., 7., 9.])"
      ]
     },
     "execution_count": 46,
     "metadata": {},
     "output_type": "execute_result"
    }
   ],
   "source": [
    "# Chaing in place \n",
    "a.add_(b) # Equivalent to a = torch.add(a,b)"
   ]
  },
  {
   "cell_type": "markdown",
   "id": "04e6e091-53d2-48dc-957d-91f27d86eeef",
   "metadata": {},
   "source": [
    "### Basic Tensor Operations in PyTorch\n",
    "\n",
    "| Operation | Function     | Description                       |\n",
    "|-----------|--------------|-----------------------------------|\n",
    "| a + b   | `a.add(b)`   | Element-wise addition             |\n",
    "| a - b   | `a.sub(b)`   | Element-wise subtraction          |\n",
    "| a * b   | `a.mul(b)`   | Element-wise multiplication       |\n",
    "| a / b   | `a.div(b)`   | Element-wise division             |\n",
    "| a %  b   | `a.fmod(b)`  | Modulo (remainder after division) |\n",
    "| a ** b  | `a.pow(b)`   | Element-wise exponentiation       |\n"
   ]
  },
  {
   "cell_type": "markdown",
   "id": "ac6a3f1e-e336-4080-afd5-c4ec0792afdc",
   "metadata": {},
   "source": [
    "### Monomial Operations in PyTorch\n",
    "\n",
    "| Operation              | Function                 | Description           |\n",
    "|------------------------|--------------------------|-----------------------|\n",
    "| \\|a\\|                  | `torch.abs(a)`           | Absolute value        |\n",
    "| 1/a                  | `torch.reciprocal(a)`    | Reciprocal            |\n",
    "| $\\sqrt{a}$            | `torch.sqrt(a)`          | Square root           |\n",
    "| log(a)               | `torch.log(a)`           | Natural log           |\n",
    "| $e^a$                  | `torch.exp(a)`           | Exponential           |\n",
    "| 12.34  ==>  12.      | `torch.trunc(a)`         | Truncated integer     |\n",
    "| 12.34  ==>  0.34     | `torch.frac(a)`          | Fractional component  |\n"
   ]
  },
  {
   "cell_type": "markdown",
   "id": "289b6fa1-bf2d-4660-a2ac-95ce8b95c50f",
   "metadata": {},
   "source": [
    "### Trigonometry in PyTorch\n",
    "\n",
    "| Operation  | Function          | Description         |\n",
    "|------------|-------------------|---------------------|\n",
    "| sin(a)   | `torch.sin(a)`    | Sine                |\n",
    "| cos(a)   | `torch.cos(a)`    | Cosine              |\n",
    "| tan(a)   | `torch.tan(a)`    | Tangent             |\n",
    "| arcsin(a)| `torch.asin(a)`   | Arc sine            |\n",
    "| arccos(a)| `torch.acos(a)`   | Arc cosine          |\n",
    "| arctan(a)| `torch.atan(a)`   | Arc tangent         |\n",
    "| sinh(a)  | `torch.sinh(a)`   | Hyperbolic sine     |\n",
    "| cosh(a)  | `torch.cosh(a)`   | Hyperbolic cosine   |\n",
    "| tanh(a)  | `torch.tanh(a)`   | Hyperbolic tangent  |\n"
   ]
  },
  {
   "cell_type": "markdown",
   "id": "1cdf319f-a1a3-4b81-b39c-a57d46288c50",
   "metadata": {},
   "source": [
    "### Summary Statistics in PyTorch\n",
    "\n",
    "| Operation       | Function          | Description      |\n",
    "|-----------------|-------------------|------------------|\n",
    "| $\\sum a$        | `torch.sum(a)`    | Sum              |\n",
    "| $\\bar{a}$       | `torch.mean(a)`   | Mean             |\n",
    "| a_max         | `torch.max(a)`    | Maximum          |\n",
    "| a_min         | `torch.min(a)`    | Minimum          |\n",
    "| \n",
    "\n",
    "**Note:**\n",
    "\n",
    "`torch.max(a, b)` returns a tensor of size `a` containing the element-wise max between `a` and `b`.\n"
   ]
  },
  {
   "cell_type": "markdown",
   "id": "7a94c68c-c955-4203-92aa-5ef7a93786eb",
   "metadata": {},
   "source": [
    "In PyTorch, arithmetic operations generally require floats. For integer tensors, some operations behave differently. for example, `torch.div(a, b)` does floor division for integers and regular division for floats."
   ]
  },
  {
   "cell_type": "code",
   "execution_count": 47,
   "id": "35fd1a09-7007-4cf7-bf56-8cb85ebf19a1",
   "metadata": {},
   "outputs": [
    {
     "data": {
      "text/plain": [
       "tensor([5., 7., 9.])"
      ]
     },
     "execution_count": 47,
     "metadata": {},
     "output_type": "execute_result"
    }
   ],
   "source": [
    "a = torch.tensor([1,2,3], dtype=torch.float)\n",
    "b = torch.tensor([4,5,6], dtype=torch.float)\n",
    "torch.add(a,b)"
   ]
  },
  {
   "cell_type": "markdown",
   "id": "72602ba6-0c6e-4a2c-ab40-0a21b09af950",
   "metadata": {},
   "source": [
    "## Dot Products\n",
    "The commands below can be used to implement dot product:\n",
    "```python\n",
    "torch.dot(a,b)\n",
    "a.dot(b)\n",
    "b.dot(a)\n",
    "```"
   ]
  },
  {
   "cell_type": "code",
   "execution_count": 48,
   "id": "bd0e03f7-dbab-483d-91e1-ef5691d4d58c",
   "metadata": {},
   "outputs": [
    {
     "data": {
      "text/plain": [
       "tensor([ 4., 10., 18.])"
      ]
     },
     "execution_count": 48,
     "metadata": {},
     "output_type": "execute_result"
    }
   ],
   "source": [
    "a = torch.tensor([1,2,3], dtype=torch.float)\n",
    "b = torch.tensor([4,5,6], dtype=torch.float)\n",
    "a.mul(b)"
   ]
  },
  {
   "cell_type": "code",
   "execution_count": 49,
   "id": "42e724fc-4ef1-41a9-92ff-164a2489d616",
   "metadata": {},
   "outputs": [
    {
     "data": {
      "text/plain": [
       "tensor(32.)"
      ]
     },
     "execution_count": 49,
     "metadata": {},
     "output_type": "execute_result"
    }
   ],
   "source": [
    "a.dot(b)"
   ]
  },
  {
   "cell_type": "markdown",
   "id": "375763ed-6535-4799-9e23-455f726bce1f",
   "metadata": {},
   "source": [
    "**Note:**\n",
    "\n",
    "`torch.dot()` is solely for computing dot products of 1D arrays, while `numpy.dot()` can perform dot products with 1D arrays and matrix multiplications with 2D arrays.\n",
    "\n",
    "Matrix multiplication can be computed using:\n",
    "```python\n",
    "torch.mm(a,b)\n",
    "a.mm(b)\n",
    "a @ b\n",
    "```"
   ]
  },
  {
   "cell_type": "code",
   "execution_count": 50,
   "id": "f1974777-ce04-40d2-a461-07c2fae586d2",
   "metadata": {},
   "outputs": [
    {
     "name": "stdout",
     "output_type": "stream",
     "text": [
      "a size:  torch.Size([2, 3])\n",
      "b size:  torch.Size([3, 2])\n",
      "axb size:  torch.Size([2, 2])\n"
     ]
    }
   ],
   "source": [
    "a = torch.tensor([[0,2,4],[1,3,5]], dtype=torch.float)\n",
    "b = torch.tensor([[6,7],[8,9],[10,11]], dtype=torch.float)\n",
    "print('a size: ',a.shape)\n",
    "print('b size: ',b.shape)\n",
    "print('axb size: ',torch.mm(a,b).shape)"
   ]
  },
  {
   "cell_type": "code",
   "execution_count": 51,
   "id": "f30162d6-db29-4c91-af9c-bf9cc71efead",
   "metadata": {},
   "outputs": [
    {
     "data": {
      "text/plain": [
       "tensor([[56., 62.],\n",
       "        [80., 89.]])"
      ]
     },
     "execution_count": 51,
     "metadata": {},
     "output_type": "execute_result"
    }
   ],
   "source": [
    "torch.mm(a,b)"
   ]
  },
  {
   "cell_type": "markdown",
   "id": "60a8d09a-64e6-4dd1-bf27-5e9de21a56ba",
   "metadata": {},
   "source": [
    "## Matrix Multiplication with Broadcasting\n",
    "It can be computed by the commands below:\n",
    "```python\n",
    "torch.matmul(a,b)\n",
    "a.matmul(a,b)\n",
    "a @ b\n",
    "```"
   ]
  },
  {
   "cell_type": "code",
   "execution_count": 54,
   "id": "b042239f-eba9-4cfd-9882-7aab17c8dfdf",
   "metadata": {},
   "outputs": [
    {
     "data": {
      "text/plain": [
       "torch.Size([2, 3, 5])"
      ]
     },
     "execution_count": 54,
     "metadata": {},
     "output_type": "execute_result"
    }
   ],
   "source": [
    "t1 = torch.rand(2, 3, 4)\n",
    "t2 = torch.rand(4, 5)\n",
    "\n",
    "torch.matmul(t1, t2).size()"
   ]
  },
  {
   "cell_type": "markdown",
   "id": "aeee1960-014c-4b14-9290-905b720cd35b",
   "metadata": {},
   "source": [
    "**Note:** The command, `torch.mm()` raise a **RuntimeError**:"
   ]
  },
  {
   "cell_type": "code",
   "execution_count": 55,
   "id": "1aa8a134-7a79-4c89-8722-c7cc645f3b61",
   "metadata": {},
   "outputs": [
    {
     "ename": "RuntimeError",
     "evalue": "self must be a matrix",
     "output_type": "error",
     "traceback": [
      "\u001b[0;31m---------------------------------------------------------------------------\u001b[0m",
      "\u001b[0;31mRuntimeError\u001b[0m                              Traceback (most recent call last)",
      "Input \u001b[0;32mIn [55]\u001b[0m, in \u001b[0;36m<cell line: 1>\u001b[0;34m()\u001b[0m\n\u001b[0;32m----> 1\u001b[0m \u001b[43mtorch\u001b[49m\u001b[38;5;241;43m.\u001b[39;49m\u001b[43mmm\u001b[49m\u001b[43m(\u001b[49m\u001b[43mt1\u001b[49m\u001b[43m,\u001b[49m\u001b[43m \u001b[49m\u001b[43mt2\u001b[49m\u001b[43m)\u001b[49m\u001b[38;5;241m.\u001b[39mshape\n",
      "\u001b[0;31mRuntimeError\u001b[0m: self must be a matrix"
     ]
    }
   ],
   "source": [
    "torch.mm(t1, t2).shape"
   ]
  },
  {
   "cell_type": "markdown",
   "id": "dfb67c6b-3b05-400d-a5fa-38bc12170bb1",
   "metadata": {},
   "source": [
    "## Advanced Operations"
   ]
  },
  {
   "cell_type": "markdown",
   "id": "43105af2-36dc-4db8-acca-f6a5aa7222f5",
   "metadata": {},
   "source": [
    "### L2 or Euclidian Norm\n",
    "```python\n",
    "torch.norm()\n",
    "```\n",
    "For a vector, it returns the **Euclidian Norm** , and for a matrix, returns teh **Frobenius Norrm**:\n",
    "https://en.wikipedia.org/wiki/Matrix_norm#Frobenius_norm\n",
    "\n",
    "**Note:**  Input dtype should be either **floating point or complex**."
   ]
  },
  {
   "cell_type": "code",
   "execution_count": 58,
   "id": "462ab55c-6299-44b2-a13e-550a46bfeb8b",
   "metadata": {},
   "outputs": [
    {
     "data": {
      "text/plain": [
       "tensor(3.7417)"
      ]
     },
     "execution_count": 58,
     "metadata": {},
     "output_type": "execute_result"
    }
   ],
   "source": [
    "x = torch.tensor([1., 2., 3.])\n",
    "x.norm()"
   ]
  },
  {
   "cell_type": "markdown",
   "id": "82c372ab-2fdd-46bc-8db1-110b6ef746b1",
   "metadata": {},
   "source": [
    "### Number of Elements\n",
    "The command below, returns the number of elements in a tensor:\n",
    "```python\n",
    "torch.numel()\n",
    "```\n",
    "For such a case like calculating MSE, it could be useful:\n",
    "```python\n",
    "def mse(t1, t2):\n",
    "    diff = t1 - t2\n",
    "    return torch.sum(diff * diff) / diff.numel()\n",
    "```"
   ]
  },
  {
   "cell_type": "code",
   "execution_count": 59,
   "id": "2e0d4266-e67e-4449-98bb-3f561ecaef78",
   "metadata": {},
   "outputs": [
    {
     "data": {
      "text/plain": [
       "6"
      ]
     },
     "execution_count": 59,
     "metadata": {},
     "output_type": "execute_result"
    }
   ],
   "source": [
    "x = torch.rand(2, 3)\n",
    "x.numel()"
   ]
  },
  {
   "cell_type": "code",
   "execution_count": 60,
   "id": "6a89c740-ec59-4185-bb07-54f1c524bc6e",
   "metadata": {},
   "outputs": [
    {
     "data": {
      "text/plain": [
       "2"
      ]
     },
     "execution_count": 60,
     "metadata": {},
     "output_type": "execute_result"
    }
   ],
   "source": [
    "# \"len()\" returns the first element of the x.shape\n",
    "len(x)"
   ]
  }
 ],
 "metadata": {
  "kernelspec": {
   "display_name": "Python 3 (ipykernel)",
   "language": "python",
   "name": "python3"
  },
  "language_info": {
   "codemirror_mode": {
    "name": "ipython",
    "version": 3
   },
   "file_extension": ".py",
   "mimetype": "text/x-python",
   "name": "python",
   "nbconvert_exporter": "python",
   "pygments_lexer": "ipython3",
   "version": "3.10.4"
  }
 },
 "nbformat": 4,
 "nbformat_minor": 5
}
