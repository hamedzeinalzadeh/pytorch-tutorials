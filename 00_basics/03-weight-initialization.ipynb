{
 "cells": [
  {
   "cell_type": "markdown",
   "id": "f703d4bc-c632-4dbb-a3d4-d861b4c3bffd",
   "metadata": {},
   "source": [
    "# Weight Initialization\n",
    "---"
   ]
  },
  {
   "cell_type": "code",
   "execution_count": 1,
   "id": "e8e682e8-54c2-437f-a9d6-1c09b6c149aa",
   "metadata": {},
   "outputs": [],
   "source": [
    "import torch\n",
    "import torch.nn as nn"
   ]
  },
  {
   "cell_type": "code",
   "execution_count": 4,
   "id": "c77f7bf2-bc30-425a-aa29-8d0f8075005a",
   "metadata": {},
   "outputs": [],
   "source": [
    "layer = nn.Linear(5, 5)"
   ]
  },
  {
   "cell_type": "code",
   "execution_count": 6,
   "id": "1544be36-b333-4017-9b05-ce9c12c4d2a6",
   "metadata": {},
   "outputs": [
    {
     "data": {
      "text/plain": [
       "Parameter containing:\n",
       "tensor([[-0.2793,  0.4101, -0.0553, -0.1348,  0.1374],\n",
       "        [ 0.3870, -0.0047, -0.2084,  0.1973,  0.3080],\n",
       "        [ 0.4134,  0.4107, -0.3409, -0.4010,  0.4322],\n",
       "        [-0.1311, -0.1307, -0.0655, -0.2347,  0.3385],\n",
       "        [ 0.2919,  0.2116, -0.2574, -0.3377, -0.3073]], requires_grad=True)"
      ]
     },
     "execution_count": 6,
     "metadata": {},
     "output_type": "execute_result"
    }
   ],
   "source": [
    "layer.weight"
   ]
  },
  {
   "cell_type": "markdown",
   "id": "247a2acf-d48a-4d45-b4cf-548c786bc4b7",
   "metadata": {},
   "source": [
    "#### **Note:**\n",
    "Pytorch uses its default method for weight initialization called `Kaiming Uniform`."
   ]
  },
  {
   "cell_type": "code",
   "execution_count": 7,
   "id": "8a7f6180-ff90-4f40-bac4-df764f5365ad",
   "metadata": {},
   "outputs": [
    {
     "data": {
      "text/plain": [
       "Parameter containing:\n",
       "tensor([-0.0342,  0.3228, -0.4265,  0.3022,  0.2599], requires_grad=True)"
      ]
     },
     "execution_count": 7,
     "metadata": {},
     "output_type": "execute_result"
    }
   ],
   "source": [
    "layer.bias"
   ]
  },
  {
   "cell_type": "code",
   "execution_count": 9,
   "id": "83abd3dd-8170-4f56-af0a-787a952da843",
   "metadata": {},
   "outputs": [
    {
     "data": {
      "text/plain": [
       "tensor([[-0.2793,  0.4101, -0.0553, -0.1348,  0.1374],\n",
       "        [ 0.3870, -0.0047, -0.2084,  0.1973,  0.3080],\n",
       "        [ 0.4134,  0.4107, -0.3409, -0.4010,  0.4322],\n",
       "        [-0.1311, -0.1307, -0.0655, -0.2347,  0.3385],\n",
       "        [ 0.2919,  0.2116, -0.2574, -0.3377, -0.3073]])"
      ]
     },
     "execution_count": 9,
     "metadata": {},
     "output_type": "execute_result"
    }
   ],
   "source": [
    "layer.weight.data"
   ]
  },
  {
   "cell_type": "markdown",
   "id": "cf9b5c0e-0bfe-4ba1-8a58-261d885cc56e",
   "metadata": {},
   "source": [
    "## Uniform Init"
   ]
  },
  {
   "cell_type": "code",
   "execution_count": 10,
   "id": "21484965-85b5-4675-a0a1-fa007bc461ec",
   "metadata": {},
   "outputs": [
    {
     "data": {
      "text/plain": [
       "Parameter containing:\n",
       "tensor([[2.5533, 0.8264, 2.5776, 1.7932, 0.8558],\n",
       "        [0.8001, 1.3693, 1.9604, 1.8112, 1.4717],\n",
       "        [2.3437, 0.1766, 1.7707, 1.6340, 1.8732],\n",
       "        [2.6028, 0.6882, 1.2955, 2.1089, 1.1100],\n",
       "        [1.9580, 0.5289, 1.4817, 2.8136, 2.3397]], requires_grad=True)"
      ]
     },
     "execution_count": 10,
     "metadata": {},
     "output_type": "execute_result"
    }
   ],
   "source": [
    "nn.init.uniform_(layer.weight, a=0, b=3)"
   ]
  },
  {
   "cell_type": "markdown",
   "id": "ec4ab3d8-e508-4764-bbbb-8ece2d3299d2",
   "metadata": {},
   "source": [
    "## Normal Init"
   ]
  },
  {
   "cell_type": "code",
   "execution_count": 11,
   "id": "b74f0a79-427c-43b5-8be6-3308b457f41a",
   "metadata": {},
   "outputs": [
    {
     "data": {
      "text/plain": [
       "Parameter containing:\n",
       "tensor([[ 0.0118, -2.8880,  1.9994, -1.5407,  3.0063],\n",
       "        [ 1.5872, -1.0582,  0.4163,  2.3199, -1.8046],\n",
       "        [ 0.2873,  0.2263, -0.3292, -3.1019,  2.6741],\n",
       "        [-1.4416,  3.9376, -0.7510,  3.2287,  0.8234],\n",
       "        [-2.1870,  0.7475,  7.1670,  1.2480,  0.3517]], requires_grad=True)"
      ]
     },
     "execution_count": 11,
     "metadata": {},
     "output_type": "execute_result"
    }
   ],
   "source": [
    "nn.init.normal_(layer.weight, mean=0, std=2)"
   ]
  },
  {
   "cell_type": "markdown",
   "id": "0f0a92e3-b1b8-4f4c-8060-bb001ef52b4c",
   "metadata": {},
   "source": [
    "## Constant Init\n",
    "Constant initializing for weights is not recommended. So, here it is used for bias initializing."
   ]
  },
  {
   "cell_type": "code",
   "execution_count": 12,
   "id": "b57e4c91-e6d2-425b-9d92-c28554dbb795",
   "metadata": {},
   "outputs": [
    {
     "data": {
      "text/plain": [
       "Parameter containing:\n",
       "tensor([8., 8., 8., 8., 8.], requires_grad=True)"
      ]
     },
     "execution_count": 12,
     "metadata": {},
     "output_type": "execute_result"
    }
   ],
   "source": [
    "nn.init.constant_(layer.bias, 8)"
   ]
  },
  {
   "cell_type": "code",
   "execution_count": 15,
   "id": "7f0f98d5-89be-4234-bf45-b841567bd209",
   "metadata": {},
   "outputs": [
    {
     "data": {
      "text/plain": [
       "Parameter containing:\n",
       "tensor([0., 0., 0., 0., 0.], requires_grad=True)"
      ]
     },
     "execution_count": 15,
     "metadata": {},
     "output_type": "execute_result"
    }
   ],
   "source": [
    "nn.init.zeros_(layer.bias)"
   ]
  },
  {
   "cell_type": "markdown",
   "id": "f0578bd6-b76d-44ca-b5ca-e315b11b4586",
   "metadata": {},
   "source": [
    "## Xavier Init"
   ]
  },
  {
   "cell_type": "code",
   "execution_count": 16,
   "id": "56186fc2-e4b2-4db5-9f14-b14c081f97b3",
   "metadata": {},
   "outputs": [
    {
     "data": {
      "text/plain": [
       "Parameter containing:\n",
       "tensor([[ 0.4240,  0.3501, -0.1820, -0.3103,  0.2878],\n",
       "        [-0.1825,  0.2665,  0.3655, -0.1316, -0.4517],\n",
       "        [ 0.0081,  0.0183, -0.0564,  0.0033,  0.1833],\n",
       "        [-0.0391, -0.5506, -0.8905, -0.1031,  0.1937],\n",
       "        [-0.6832, -0.0134,  0.5989,  0.1344, -0.5393]], requires_grad=True)"
      ]
     },
     "execution_count": 16,
     "metadata": {},
     "output_type": "execute_result"
    }
   ],
   "source": [
    "nn.init.xavier_normal_(layer.weight, gain=1)"
   ]
  },
  {
   "cell_type": "code",
   "execution_count": 17,
   "id": "e7fd8a36-6dd8-4671-b640-9e06255a2b57",
   "metadata": {
    "scrolled": true
   },
   "outputs": [
    {
     "data": {
      "text/plain": [
       "Parameter containing:\n",
       "tensor([[ 0.2417, -0.6862, -0.6930, -0.4115,  0.1182],\n",
       "        [-0.4950, -0.5358, -0.7297,  0.5610, -0.4174],\n",
       "        [ 0.5580, -0.3569, -0.7046, -0.6895,  0.4307],\n",
       "        [ 0.4834, -0.4453,  0.2645, -0.7627, -0.7484],\n",
       "        [-0.5108, -0.0168,  0.5571, -0.2125, -0.4866]], requires_grad=True)"
      ]
     },
     "execution_count": 17,
     "metadata": {},
     "output_type": "execute_result"
    }
   ],
   "source": [
    "nn.init.xavier_uniform_(layer.weight, gain=1)"
   ]
  }
 ],
 "metadata": {
  "kernelspec": {
   "display_name": "Python 3 (ipykernel)",
   "language": "python",
   "name": "python3"
  },
  "language_info": {
   "codemirror_mode": {
    "name": "ipython",
    "version": 3
   },
   "file_extension": ".py",
   "mimetype": "text/x-python",
   "name": "python",
   "nbconvert_exporter": "python",
   "pygments_lexer": "ipython3",
   "version": "3.12.7"
  }
 },
 "nbformat": 4,
 "nbformat_minor": 5
}
