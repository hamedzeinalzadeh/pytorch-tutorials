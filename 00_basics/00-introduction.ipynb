{
 "cells": [
  {
   "cell_type": "markdown",
   "id": "2407f19b-cab5-490a-9821-dd119d5e865b",
   "metadata": {},
   "source": [
    "# Introduction\n",
    "---"
   ]
  },
  {
   "cell_type": "code",
   "execution_count": 1,
   "id": "06b14164-95b9-4dd2-94d5-145dab0987f2",
   "metadata": {},
   "outputs": [],
   "source": [
    "import torch"
   ]
  },
  {
   "cell_type": "markdown",
   "id": "feb770cd-aad3-4277-a437-6decfa09e557",
   "metadata": {},
   "source": [
    "# Tensors"
   ]
  },
  {
   "cell_type": "code",
   "execution_count": 10,
   "id": "09aef906-7f64-49fe-9d01-c66824a60268",
   "metadata": {},
   "outputs": [
    {
     "data": {
      "text/plain": [
       "tensor([2, 1, 1])"
      ]
     },
     "execution_count": 10,
     "metadata": {},
     "output_type": "execute_result"
    }
   ],
   "source": [
    "# 1D tensor\n",
    "a = torch.tensor([2, 1, 1])\n",
    "a"
   ]
  },
  {
   "cell_type": "code",
   "execution_count": 12,
   "id": "17f47bfc-8529-4914-b154-f9ca9eba4788",
   "metadata": {},
   "outputs": [
    {
     "data": {
      "text/plain": [
       "tensor([[1, 2, 3],\n",
       "        [4, 5, 6],\n",
       "        [7, 8, 9]])"
      ]
     },
     "execution_count": 12,
     "metadata": {},
     "output_type": "execute_result"
    }
   ],
   "source": [
    "# 2D tensor\n",
    "b = torch.tensor([[1, 2, 3], [4, 5, 6], [7, 8, 9]])\n",
    "b"
   ]
  },
  {
   "cell_type": "code",
   "execution_count": 14,
   "id": "50c6cb8d-5382-439c-abb5-6ccecb236155",
   "metadata": {},
   "outputs": [
    {
     "name": "stdout",
     "output_type": "stream",
     "text": [
      "torch.Size([3]) torch.Size([3])\n"
     ]
    }
   ],
   "source": [
    "print(a.shape, a.size())"
   ]
  },
  {
   "cell_type": "code",
   "execution_count": 15,
   "id": "9f0bf643-a0f6-4941-81ce-e499f98b998a",
   "metadata": {},
   "outputs": [
    {
     "name": "stdout",
     "output_type": "stream",
     "text": [
      "torch.Size([3, 3]) 3\n"
     ]
    }
   ],
   "source": [
    "print(b.shape, b.shape[0])"
   ]
  },
  {
   "cell_type": "code",
   "execution_count": 16,
   "id": "788c3268-472e-4ebd-9a51-523edd99b69f",
   "metadata": {},
   "outputs": [],
   "source": [
    "c = torch.FloatTensor([[1, 2, 3], [4, 5, 6], [7, 8, 9]])\n",
    "d = torch.DoubleTensor([[1, 2, 3], [4, 5, 6], [7, 8, 9]])\n",
    "# c = torch.tensor([[1, 2, 3], [4, 5, 6], [7, 8, 9]], dtype=torch.float)\n",
    "# d = torch.tensor([[1, 2, 3], [4, 5, 6], [7, 8, 9]], dtype=torch.double)"
   ]
  },
  {
   "cell_type": "code",
   "execution_count": 17,
   "id": "cb29c107-0b2d-46e9-bf85-bc9b44e0cd83",
   "metadata": {},
   "outputs": [
    {
     "name": "stdout",
     "output_type": "stream",
     "text": [
      "tensor([[1., 2., 3.],\n",
      "        [4., 5., 6.],\n",
      "        [7., 8., 9.]]) torch.float32\n",
      "tensor([[1., 2., 3.],\n",
      "        [4., 5., 6.],\n",
      "        [7., 8., 9.]], dtype=torch.float64) torch.float64\n"
     ]
    }
   ],
   "source": [
    "print(c, c.dtype)\n",
    "print(d, d.dtype)"
   ]
  },
  {
   "cell_type": "code",
   "execution_count": 18,
   "id": "42420247-512c-45ed-b5d6-34d9ccfd21b8",
   "metadata": {},
   "outputs": [
    {
     "name": "stdout",
     "output_type": "stream",
     "text": [
      "tensor(5.) tensor(2.7386)\n"
     ]
    }
   ],
   "source": [
    "print(c.mean(), c.std())"
   ]
  },
  {
   "cell_type": "code",
   "execution_count": 22,
   "id": "989c2af6-2cc4-45ec-bf69-f6fa5e692499",
   "metadata": {},
   "outputs": [
    {
     "name": "stdout",
     "output_type": "stream",
     "text": [
      "tensor([[1, 2, 3, 4, 5, 6, 7, 8, 9]]) \n",
      " tensor([1, 2, 3, 4, 5, 6, 7, 8, 9]) \n",
      " tensor([[1, 2, 3],\n",
      "        [4, 5, 6],\n",
      "        [7, 8, 9]])\n"
     ]
    }
   ],
   "source": [
    "# Reshape\n",
    "print(b.reshape(1, 9),'\\n', b.reshape(9), '\\n', b.reshape(-1, 3))\n",
    "# b.view() do the same thing."
   ]
  },
  {
   "cell_type": "code",
   "execution_count": 24,
   "id": "d539f65d-f532-43e1-a6fc-4f2b476785bf",
   "metadata": {},
   "outputs": [
    {
     "data": {
      "text/plain": [
       "tensor([[0.7693, 0.9998, 0.8570, 0.5392],\n",
       "        [0.4387, 0.0956, 0.5906, 0.5543],\n",
       "        [0.7542, 0.8011, 0.3169, 0.6890],\n",
       "        [0.9224, 0.7381, 0.6522, 0.4128]])"
      ]
     },
     "execution_count": 24,
     "metadata": {},
     "output_type": "execute_result"
    }
   ],
   "source": [
    "# Generate random numbers between 0 and 1\n",
    "r = torch.rand(4, 4)\n",
    "r"
   ]
  },
  {
   "cell_type": "code",
   "execution_count": 25,
   "id": "8e1a039c-7050-4c93-b77c-f4cebffa95f6",
   "metadata": {},
   "outputs": [
    {
     "name": "stdout",
     "output_type": "stream",
     "text": [
      "tensor([[ 1.7833, -1.7511,  0.1844, -0.2660],\n",
      "        [-0.0194, -1.3660, -0.7160,  0.3823],\n",
      "        [-0.7011,  0.4793,  0.1889, -0.4169],\n",
      "        [ 1.3475,  0.4607, -0.0576, -0.6788]]) torch.float32\n"
     ]
    }
   ],
   "source": [
    "# Generate random numbers from a standard normal distribution\n",
    "r = torch.randn(4, 4)\n",
    "print(r, r.dtype)"
   ]
  },
  {
   "cell_type": "code",
   "execution_count": 27,
   "id": "3f7ae75e-6859-4c51-b0f2-ddbb147ff26a",
   "metadata": {},
   "outputs": [
    {
     "name": "stdout",
     "output_type": "stream",
     "text": [
      "tensor([[7, 6, 6, 7],\n",
      "        [6, 6, 7, 6],\n",
      "        [9, 6, 6, 7],\n",
      "        [6, 6, 7, 8]]) torch.int64\n"
     ]
    }
   ],
   "source": [
    "# Generate random integer numbers between the limits(exclusive max)\n",
    "r = torch.randint(6, 10, (4, 4))\n",
    "print(r, r.dtype)"
   ]
  },
  {
   "cell_type": "code",
   "execution_count": 32,
   "id": "88d83e90-bc8a-471e-ab5d-5391dc6a2a2c",
   "metadata": {},
   "outputs": [
    {
     "data": {
      "text/plain": [
       "tensor([[[ 0.3419,  0.3739],\n",
       "         [ 0.2906, -0.3094]],\n",
       "\n",
       "        [[-0.1416,  0.1641],\n",
       "         [ 0.4433, -0.6833]],\n",
       "\n",
       "        [[-0.1280,  0.6222],\n",
       "         [ 0.8477,  0.8139]]])"
      ]
     },
     "execution_count": 32,
     "metadata": {},
     "output_type": "execute_result"
    }
   ],
   "source": [
    "# 3D tensor (channel, row, column)\n",
    "d = torch.randn(3, 2, 2)\n",
    "d"
   ]
  },
  {
   "cell_type": "code",
   "execution_count": 34,
   "id": "4dd9dc55-d7e5-4966-b545-a578dd14ca38",
   "metadata": {},
   "outputs": [
    {
     "data": {
      "text/plain": [
       "12"
      ]
     },
     "execution_count": 34,
     "metadata": {},
     "output_type": "execute_result"
    }
   ],
   "source": [
    "# Get the number of elements\n",
    "torch.numel(d)"
   ]
  },
  {
   "cell_type": "code",
   "execution_count": 36,
   "id": "ce13a574-01e6-481f-89d1-c3f424a88b18",
   "metadata": {},
   "outputs": [
    {
     "name": "stdout",
     "output_type": "stream",
     "text": [
      "tensor([[0, 0, 0],\n",
      "        [0, 0, 0],\n",
      "        [0, 0, 0]]) torch.int64\n",
      "tensor([[1., 1., 1.],\n",
      "        [1., 1., 1.],\n",
      "        [1., 1., 1.]]) torch.float32\n"
     ]
    }
   ],
   "source": [
    "# Zeroes and ones(with dtype specification)\n",
    "z = torch.zeros(3, 3, dtype=torch.long)\n",
    "print(z, z.dtype)\n",
    "o = torch.ones(3, 3)\n",
    "print(o, o.dtype)"
   ]
  },
  {
   "cell_type": "code",
   "execution_count": 38,
   "id": "b8e12f2b-eef1-489d-aea8-f368de8f3365",
   "metadata": {},
   "outputs": [
    {
     "data": {
      "text/plain": [
       "tensor([[ 0.1935, -0.1559,  0.4119],\n",
       "        [ 1.1482, -0.9078, -0.7300],\n",
       "        [ 0.5066, -1.4494,  0.5402]], dtype=torch.float64)"
      ]
     },
     "execution_count": 38,
     "metadata": {},
     "output_type": "execute_result"
    }
   ],
   "source": [
    "# Like\n",
    "z_like = torch.randn_like(z, dtype=torch.double)\n",
    "z_like"
   ]
  },
  {
   "cell_type": "code",
   "execution_count": 44,
   "id": "dd0b9383-4c93-4fa3-8e6f-f84fe49567cd",
   "metadata": {},
   "outputs": [
    {
     "data": {
      "text/plain": [
       "tensor([[ 0.1935, -0.1559,  0.4119],\n",
       "        [ 1.1482, -0.9078, -0.7300],\n",
       "        [ 0.5066, -1.4494,  0.5402]], dtype=torch.float64)"
      ]
     },
     "execution_count": 44,
     "metadata": {},
     "output_type": "execute_result"
    }
   ],
   "source": [
    "# Add (two tensors should have the same(supportive) size and data type)\n",
    "arr_add = torch.add(z, z_like)\n",
    "arr_add"
   ]
  },
  {
   "cell_type": "code",
   "execution_count": 43,
   "id": "9096b0de-f409-4727-81a3-9fc799ab65d6",
   "metadata": {},
   "outputs": [
    {
     "data": {
      "text/plain": [
       "tensor([[ 0.1935, -0.1559,  0.4119],\n",
       "        [ 1.1482, -0.9078, -0.7300],\n",
       "        [ 0.5066, -1.4494,  0.5402]], dtype=torch.float64)"
      ]
     },
     "execution_count": 43,
     "metadata": {},
     "output_type": "execute_result"
    }
   ],
   "source": [
    "# In-place add\n",
    "z_like.add_(z)\n",
    "z_like"
   ]
  },
  {
   "cell_type": "code",
   "execution_count": 48,
   "id": "e78a457d-979f-49c3-b30b-f45b78f6462c",
   "metadata": {},
   "outputs": [
    {
     "data": {
      "text/plain": [
       "tensor([[ 0.1935, -0.1559],\n",
       "        [ 1.1482, -0.9078],\n",
       "        [ 0.5066, -1.4494]], dtype=torch.float64)"
      ]
     },
     "execution_count": 48,
     "metadata": {},
     "output_type": "execute_result"
    }
   ],
   "source": [
    "# Slicing(same as python slicing)\n",
    "z_like[:,:2]"
   ]
  },
  {
   "cell_type": "code",
   "execution_count": 53,
   "id": "6fc32608-16b5-49a3-afd2-7df042757129",
   "metadata": {},
   "outputs": [
    {
     "name": "stdout",
     "output_type": "stream",
     "text": [
      "tensor(-0.7300, dtype=torch.float64) -0.7300303752455789\n"
     ]
    }
   ],
   "source": [
    "# Extract element\n",
    "num = z_like[1, 2]\n",
    "print(num, num.item())"
   ]
  },
  {
   "cell_type": "markdown",
   "id": "93adc44a-2482-49f1-a265-075fb29590d3",
   "metadata": {},
   "source": [
    "# Numpy array, Torch tensor "
   ]
  },
  {
   "cell_type": "code",
   "execution_count": 54,
   "id": "5c5914c9-de62-42c7-9f86-d33b3c544835",
   "metadata": {},
   "outputs": [],
   "source": [
    "import numpy as np"
   ]
  },
  {
   "cell_type": "code",
   "execution_count": 59,
   "id": "95e9e1cc-7352-4434-8ad6-0e75f3aad385",
   "metadata": {},
   "outputs": [
    {
     "data": {
      "text/plain": [
       "array([[1., 1.],\n",
       "       [1., 1.]], dtype=float32)"
      ]
     },
     "execution_count": 59,
     "metadata": {},
     "output_type": "execute_result"
    }
   ],
   "source": [
    "# Convert torch-tensor to numpy array\n",
    "a = torch.ones(2, 2)\n",
    "b = a.numpy()\n",
    "b"
   ]
  },
  {
   "cell_type": "code",
   "execution_count": 58,
   "id": "f181b1e6-321d-4b6f-9c25-3420cf03f41c",
   "metadata": {},
   "outputs": [
    {
     "name": "stdout",
     "output_type": "stream",
     "text": [
      "tensor([[4., 4.],\n",
      "        [4., 4.]]) \n",
      " [[4. 4.]\n",
      " [4. 4.]]\n"
     ]
    }
   ],
   "source": [
    "# Pay attention to ALIASING\n",
    "a.add_(1)\n",
    "print(a,'\\n', b)"
   ]
  },
  {
   "cell_type": "code",
   "execution_count": 61,
   "id": "06721633-5e11-48f5-988a-d570fcca8e4c",
   "metadata": {},
   "outputs": [
    {
     "data": {
      "text/plain": [
       "tensor([[1., 1.],\n",
       "        [1., 1.]])"
      ]
     },
     "execution_count": 61,
     "metadata": {},
     "output_type": "execute_result"
    }
   ],
   "source": [
    "# Convert numpy array to torch tensor\n",
    "a = torch.from_numpy(b)\n",
    "a"
   ]
  },
  {
   "cell_type": "code",
   "execution_count": 64,
   "id": "ec2d0af6-8f97-4952-8fcf-99d394d39a22",
   "metadata": {},
   "outputs": [
    {
     "ename": "AssertionError",
     "evalue": "Torch not compiled with CUDA enabled",
     "output_type": "error",
     "traceback": [
      "\u001b[0;31m---------------------------------------------------------------------------\u001b[0m",
      "\u001b[0;31mAssertionError\u001b[0m                            Traceback (most recent call last)",
      "Cell \u001b[0;32mIn[64], line 2\u001b[0m\n\u001b[1;32m      1\u001b[0m \u001b[38;5;66;03m# Move tensor to GPU(get error because the lack of gpu on the system)\u001b[39;00m\n\u001b[0;32m----> 2\u001b[0m a \u001b[38;5;241m=\u001b[39m a\u001b[38;5;241m.\u001b[39mcuda()\n\u001b[1;32m      3\u001b[0m a\n",
      "File \u001b[0;32m~/miniconda3/envs/data/lib/python3.12/site-packages/torch/cuda/__init__.py:310\u001b[0m, in \u001b[0;36m_lazy_init\u001b[0;34m()\u001b[0m\n\u001b[1;32m    305\u001b[0m     \u001b[38;5;28;01mraise\u001b[39;00m \u001b[38;5;167;01mRuntimeError\u001b[39;00m(\n\u001b[1;32m    306\u001b[0m         \u001b[38;5;124m\"\u001b[39m\u001b[38;5;124mCannot re-initialize CUDA in forked subprocess. To use CUDA with \u001b[39m\u001b[38;5;124m\"\u001b[39m\n\u001b[1;32m    307\u001b[0m         \u001b[38;5;124m\"\u001b[39m\u001b[38;5;124mmultiprocessing, you must use the \u001b[39m\u001b[38;5;124m'\u001b[39m\u001b[38;5;124mspawn\u001b[39m\u001b[38;5;124m'\u001b[39m\u001b[38;5;124m start method\u001b[39m\u001b[38;5;124m\"\u001b[39m\n\u001b[1;32m    308\u001b[0m     )\n\u001b[1;32m    309\u001b[0m \u001b[38;5;28;01mif\u001b[39;00m \u001b[38;5;129;01mnot\u001b[39;00m \u001b[38;5;28mhasattr\u001b[39m(torch\u001b[38;5;241m.\u001b[39m_C, \u001b[38;5;124m\"\u001b[39m\u001b[38;5;124m_cuda_getDeviceCount\u001b[39m\u001b[38;5;124m\"\u001b[39m):\n\u001b[0;32m--> 310\u001b[0m     \u001b[38;5;28;01mraise\u001b[39;00m \u001b[38;5;167;01mAssertionError\u001b[39;00m(\u001b[38;5;124m\"\u001b[39m\u001b[38;5;124mTorch not compiled with CUDA enabled\u001b[39m\u001b[38;5;124m\"\u001b[39m)\n\u001b[1;32m    311\u001b[0m \u001b[38;5;28;01mif\u001b[39;00m _cudart \u001b[38;5;129;01mis\u001b[39;00m \u001b[38;5;28;01mNone\u001b[39;00m:\n\u001b[1;32m    312\u001b[0m     \u001b[38;5;28;01mraise\u001b[39;00m \u001b[38;5;167;01mAssertionError\u001b[39;00m(\n\u001b[1;32m    313\u001b[0m         \u001b[38;5;124m\"\u001b[39m\u001b[38;5;124mlibcudart functions unavailable. It looks like you have a broken build?\u001b[39m\u001b[38;5;124m\"\u001b[39m\n\u001b[1;32m    314\u001b[0m     )\n",
      "\u001b[0;31mAssertionError\u001b[0m: Torch not compiled with CUDA enabled"
     ]
    }
   ],
   "source": [
    "# Move tensor to GPU(get error because the lack of gpu on the system)\n",
    "a = a.cuda()\n",
    "a"
   ]
  },
  {
   "cell_type": "code",
   "execution_count": 66,
   "id": "858e4137-d5c9-41c2-b706-56e1cba29e7d",
   "metadata": {},
   "outputs": [
    {
     "name": "stdout",
     "output_type": "stream",
     "text": [
      "False\n"
     ]
    }
   ],
   "source": [
    "# Easy switch between CPU and GPU\n",
    "CUDA = torch.cuda.is_available()\n",
    "print(CUDA)\n",
    "if CUDA:\n",
    "    a = a.cuda()"
   ]
  },
  {
   "cell_type": "code",
   "execution_count": 70,
   "id": "ec94ac47-5239-4dcf-a53d-e84f8e796c7f",
   "metadata": {},
   "outputs": [
    {
     "name": "stdout",
     "output_type": "stream",
     "text": [
      "tensor([[-0.9633,  0.3408, -0.4542],\n",
      "        [ 0.4209,  1.0426,  1.0250],\n",
      "        [-0.3061,  1.7100,  0.6981],\n",
      "        [ 0.7492, -0.1376,  0.4646],\n",
      "        [ 2.0434,  1.5619, -0.1992],\n",
      "        [-1.0967,  0.3861,  0.2547]]) torch.Size([6, 3])\n"
     ]
    }
   ],
   "source": [
    "# Concatenation along rows(dimension = 0, default), should have same column size\n",
    "arr1 = torch.randn(2, 3)\n",
    "arr2 = torch.randn(4, 3)\n",
    "concat_ = torch.cat([arr1, arr2])\n",
    "print(concat_, concat_.shape)"
   ]
  },
  {
   "cell_type": "code",
   "execution_count": 71,
   "id": "b52399cb-ee64-4fd9-9e3a-8528b7453e15",
   "metadata": {},
   "outputs": [
    {
     "name": "stdout",
     "output_type": "stream",
     "text": [
      "tensor([[-0.0536, -0.1542,  1.5899,  0.2928],\n",
      "        [-0.4388,  0.9657, -0.6378,  0.0411]]) torch.Size([2, 4])\n"
     ]
    }
   ],
   "source": [
    "# Concatenation along columns(dimension = 1), should have same row size\n",
    "arr1 = torch.randn(2, 1)\n",
    "arr2 = torch.randn(2, 3)\n",
    "concat_ = torch.cat([arr1, arr2], dim=1)\n",
    "print(concat_, concat_.shape)"
   ]
  },
  {
   "cell_type": "code",
   "execution_count": 5,
   "id": "122aeb4d-0fea-40bb-b67c-2094b9938d37",
   "metadata": {},
   "outputs": [
    {
     "name": "stdout",
     "output_type": "stream",
     "text": [
      "torch.Size([4]) torch.Size([1, 4]) torch.Size([4, 1])\n"
     ]
    }
   ],
   "source": [
    "# Add dimensios \n",
    "arr = torch.tensor([1, 2, 3, 4])\n",
    "ext_arr = torch.unsqueeze(arr, dim=0)\n",
    "ext2_arr = torch.unsqueeze(arr, dim=1)\n",
    "print(arr.shape, ext_arr.shape, ext2_arr.shape)"
   ]
  },
  {
   "cell_type": "code",
   "execution_count": 7,
   "id": "b1b10cc6-b7ed-4dba-afe9-77bc5f991602",
   "metadata": {},
   "outputs": [
    {
     "name": "stdout",
     "output_type": "stream",
     "text": [
      "torch.Size([2, 3, 4]) torch.Size([2, 1, 3, 4])\n"
     ]
    }
   ],
   "source": [
    "rand_arr = torch.rand(2, 3, 4)\n",
    "ext_rand_arr = torch.unsqueeze(rand_arr, 1)\n",
    "print(rand_arr.shape, ext_rand_arr.shape)"
   ]
  },
  {
   "cell_type": "code",
   "execution_count": null,
   "id": "105e356b-8a17-4fd8-8acf-9e55770dde89",
   "metadata": {},
   "outputs": [],
   "source": []
  }
 ],
 "metadata": {
  "kernelspec": {
   "display_name": "Python 3 (ipykernel)",
   "language": "python",
   "name": "python3"
  },
  "language_info": {
   "codemirror_mode": {
    "name": "ipython",
    "version": 3
   },
   "file_extension": ".py",
   "mimetype": "text/x-python",
   "name": "python",
   "nbconvert_exporter": "python",
   "pygments_lexer": "ipython3",
   "version": "3.12.7"
  }
 },
 "nbformat": 4,
 "nbformat_minor": 5
}
