{
 "cells": [
  {
   "cell_type": "markdown",
   "id": "7fae5f4b-57dc-4cad-9714-469b0cf14a9d",
   "metadata": {},
   "source": [
    "# AutoGrad\n",
    "---"
   ]
  },
  {
   "cell_type": "code",
   "execution_count": 1,
   "id": "f1caa174-661b-43f8-be4c-3cab6ba88241",
   "metadata": {},
   "outputs": [],
   "source": [
    "import torch"
   ]
  },
  {
   "cell_type": "code",
   "execution_count": 5,
   "id": "72b69ee2-7435-481d-8aa7-32eff9af03fe",
   "metadata": {},
   "outputs": [
    {
     "name": "stdout",
     "output_type": "stream",
     "text": [
      "tensor(21., grad_fn=<SumBackward0>) \n",
      " <SumBackward0 object at 0x740e41eb9ba0>\n"
     ]
    }
   ],
   "source": [
    "x = torch.tensor([1, 2, 3], dtype=torch.float, requires_grad=True)\n",
    "y = torch.tensor([4, 5, 6], dtype=torch.float, requires_grad=True)\n",
    "z = x + y\n",
    "s = z.sum()\n",
    "print(s,'\\n', s.grad_fn)"
   ]
  },
  {
   "cell_type": "code",
   "execution_count": 7,
   "id": "80b53da5-77c4-4a98-a0b5-c5d7781d2f38",
   "metadata": {},
   "outputs": [
    {
     "data": {
      "text/plain": [
       "tensor([2., 2., 2.])"
      ]
     },
     "execution_count": 7,
     "metadata": {},
     "output_type": "execute_result"
    }
   ],
   "source": [
    "# Backpropagation\n",
    "s.backward()\n",
    "# Derivative value of s with respect to x\n",
    "x.grad"
   ]
  },
  {
   "cell_type": "code",
   "execution_count": 11,
   "id": "0ed00f84-93ff-4311-bc42-3107eb9dd87e",
   "metadata": {},
   "outputs": [
    {
     "name": "stdout",
     "output_type": "stream",
     "text": [
      "None False False\n"
     ]
    }
   ],
   "source": [
    "# requires_grad = False by default\n",
    "x = torch.tensor([1, 2, 3], dtype=torch.float)\n",
    "y = torch.tensor([4, 5, 6], dtype=torch.float)\n",
    "z = x + y\n",
    "print(z.grad_fn, x.requires_grad, y.requires_grad)"
   ]
  },
  {
   "cell_type": "code",
   "execution_count": 12,
   "id": "a906afea-5a41-46a9-a58a-39690f194d0d",
   "metadata": {},
   "outputs": [
    {
     "name": "stdout",
     "output_type": "stream",
     "text": [
      "<AddBackward0 object at 0x740e40f23ac0> True True\n"
     ]
    }
   ],
   "source": [
    "# Another way to make requires_grad = True\n",
    "# requires_grad_: notice the _ at the end for inplace operation\n",
    "x.requires_grad_()\n",
    "y.requires_grad_()\n",
    "z = x + y\n",
    "print(z.grad_fn, x.requires_grad, y.requires_grad)"
   ]
  },
  {
   "cell_type": "code",
   "execution_count": 13,
   "id": "60c20182-5802-4c29-b727-d5c8b7e02811",
   "metadata": {},
   "outputs": [
    {
     "name": "stdout",
     "output_type": "stream",
     "text": [
      "None\n"
     ]
    }
   ],
   "source": [
    "# z.detach() returns a tensor having share storage with z,\n",
    "# but the computation history is forgotten!\\\n",
    "z_new = z.detach()\n",
    "print(z_new.grad_fn)"
   ]
  },
  {
   "cell_type": "code",
   "execution_count": 14,
   "id": "9e15f0a7-1812-4ab1-b15c-18f4b00ae65f",
   "metadata": {},
   "outputs": [
    {
     "name": "stdout",
     "output_type": "stream",
     "text": [
      "False\n"
     ]
    }
   ],
   "source": [
    "# Stop tracking history\n",
    "with torch.no_grad():\n",
    "    print((x + 2).requires_grad)"
   ]
  }
 ],
 "metadata": {
  "kernelspec": {
   "display_name": "Python 3 (ipykernel)",
   "language": "python",
   "name": "python3"
  },
  "language_info": {
   "codemirror_mode": {
    "name": "ipython",
    "version": 3
   },
   "file_extension": ".py",
   "mimetype": "text/x-python",
   "name": "python",
   "nbconvert_exporter": "python",
   "pygments_lexer": "ipython3",
   "version": "3.12.7"
  }
 },
 "nbformat": 4,
 "nbformat_minor": 5
}
