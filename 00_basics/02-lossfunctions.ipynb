{
 "cells": [
  {
   "cell_type": "markdown",
   "id": "115e95f7-a4d9-4ea3-b867-83bfe4d244b2",
   "metadata": {},
   "source": [
    "# Loss Functions\n",
    "---"
   ]
  },
  {
   "cell_type": "code",
   "execution_count": 1,
   "id": "641e83f8-7564-44c2-a1f5-73a4481ebecb",
   "metadata": {},
   "outputs": [],
   "source": [
    "import torch\n",
    "import torch.nn as nn"
   ]
  },
  {
   "cell_type": "markdown",
   "id": "15e8822e-7694-4e6b-abb6-7f2a359670e4",
   "metadata": {},
   "source": [
    "## MSE"
   ]
  },
  {
   "cell_type": "code",
   "execution_count": 2,
   "id": "61eb1de2-e43a-48d5-bbd4-f0e76e429fad",
   "metadata": {},
   "outputs": [],
   "source": [
    "prediction = torch.randn(4, 5)\n",
    "label = torch.randn(4, 5)"
   ]
  },
  {
   "cell_type": "code",
   "execution_count": 9,
   "id": "17c3fdc0-8760-43d5-baf1-e03b8a9e21e5",
   "metadata": {},
   "outputs": [],
   "source": [
    "# mse = nn.MSELoss(reductoin=mean), reduction = 'none', 'mean'(default), 'sum'\n",
    "mse = nn.MSELoss()"
   ]
  },
  {
   "cell_type": "code",
   "execution_count": 10,
   "id": "9e00d43e-2793-49bb-bf9a-910743b54f30",
   "metadata": {},
   "outputs": [
    {
     "data": {
      "text/plain": [
       "tensor(1.2132)"
      ]
     },
     "execution_count": 10,
     "metadata": {},
     "output_type": "execute_result"
    }
   ],
   "source": [
    "loss = mse(prediction, label)\n",
    "loss"
   ]
  },
  {
   "cell_type": "code",
   "execution_count": 11,
   "id": "763d29c0-4807-4879-9b65-c0a4ce3bacc4",
   "metadata": {},
   "outputs": [
    {
     "data": {
      "text/plain": [
       "tensor(1.2132)"
      ]
     },
     "execution_count": 11,
     "metadata": {},
     "output_type": "execute_result"
    }
   ],
   "source": [
    "# Implement from scratch\n",
    "((prediction - label) ** 2).mean()"
   ]
  },
  {
   "cell_type": "markdown",
   "id": "b45ebe91-236b-476a-98ac-7e4e3522e5c2",
   "metadata": {},
   "source": [
    "## Binary Cross Entropy Loss"
   ]
  },
  {
   "cell_type": "code",
   "execution_count": 12,
   "id": "960fe84d-3795-469b-9308-cbe31ed15882",
   "metadata": {},
   "outputs": [
    {
     "data": {
      "text/plain": [
       "tensor([[ 1.6475,  0.3130, -0.6018, -1.1645,  0.6064],\n",
       "        [-0.9969, -0.3796, -0.5490, -0.9377, -0.0159],\n",
       "        [-0.3647,  1.4951,  1.5219, -0.5675,  0.0842],\n",
       "        [ 0.2892, -2.3569, -0.3242,  0.6555, -0.5519]])"
      ]
     },
     "execution_count": 12,
     "metadata": {},
     "output_type": "execute_result"
    }
   ],
   "source": [
    "prediction"
   ]
  },
  {
   "cell_type": "code",
   "execution_count": 16,
   "id": "a235be68-ab62-4ee7-9947-3c64f0273e97",
   "metadata": {},
   "outputs": [
    {
     "data": {
      "text/plain": [
       "tensor([[0., 0., 1., 1., 1.],\n",
       "        [0., 1., 0., 1., 0.],\n",
       "        [1., 0., 0., 1., 1.],\n",
       "        [0., 0., 0., 0., 0.]])"
      ]
     },
     "execution_count": 16,
     "metadata": {},
     "output_type": "execute_result"
    }
   ],
   "source": [
    "# Create label wiht the same size as prediction filled with 0 or 1 values\n",
    "label = torch.empty_like(prediction).random_(0, 2)\n",
    "label"
   ]
  },
  {
   "cell_type": "code",
   "execution_count": 17,
   "id": "fce14ced-6dcb-4975-9bb7-e9fd59f66bf5",
   "metadata": {},
   "outputs": [],
   "source": [
    "sigmoid_ = nn.Sigmoid()"
   ]
  },
  {
   "cell_type": "code",
   "execution_count": 18,
   "id": "2c9c4f36-92c5-48ed-b73b-cd11c7b7dd7f",
   "metadata": {},
   "outputs": [],
   "source": [
    "bce = nn.BCELoss()"
   ]
  },
  {
   "cell_type": "code",
   "execution_count": 20,
   "id": "983fec9b-9778-4631-8e1e-350962db4939",
   "metadata": {},
   "outputs": [
    {
     "data": {
      "text/plain": [
       "tensor(0.9104)"
      ]
     },
     "execution_count": 20,
     "metadata": {},
     "output_type": "execute_result"
    }
   ],
   "source": [
    "loss = bce(sigmoid_(prediction), label)\n",
    "loss"
   ]
  },
  {
   "cell_type": "code",
   "execution_count": 21,
   "id": "6f59e300-9d1b-41f1-8785-1111fab074b2",
   "metadata": {},
   "outputs": [
    {
     "data": {
      "text/plain": [
       "tensor(0.9104)"
      ]
     },
     "execution_count": 21,
     "metadata": {},
     "output_type": "execute_result"
    }
   ],
   "source": [
    "# BCE with logits loss(automatically feed the level before the end to sigomid)\n",
    "bce_logits = nn.BCEWithLogitsLoss()\n",
    "loss = bce_logits(prediction, label)\n",
    "loss"
   ]
  },
  {
   "cell_type": "code",
   "execution_count": 22,
   "id": "b6b717f6-3dbf-4883-a001-b60b6fa7779a",
   "metadata": {},
   "outputs": [],
   "source": [
    "# Implement with numpy from scratch\n",
    "import numpy as np"
   ]
  },
  {
   "cell_type": "code",
   "execution_count": 23,
   "id": "869abd64-1ad5-4bd0-ac79-56a68caa7363",
   "metadata": {},
   "outputs": [],
   "source": [
    "y_hat = prediction.numpy()\n",
    "y = label.numpy()"
   ]
  },
  {
   "cell_type": "code",
   "execution_count": 46,
   "id": "11de38d2-c92f-47ba-883c-17874efcaf22",
   "metadata": {},
   "outputs": [],
   "source": [
    "# The inputs of BCE Loss might be between 0 and 1\n",
    "def sigmoid_converter(x):\n",
    "    return 1 / (1 + np.exp(x))"
   ]
  },
  {
   "cell_type": "code",
   "execution_count": 42,
   "id": "41f1e7cd-763c-40f9-bca7-10130c7e179f",
   "metadata": {},
   "outputs": [],
   "source": [
    "y_hat = sigmoid_converter(y_hat)"
   ]
  },
  {
   "cell_type": "code",
   "execution_count": 45,
   "id": "ec6a1443-c749-44a4-a27e-132a57382857",
   "metadata": {},
   "outputs": [
    {
     "data": {
      "text/plain": [
       "0.6877740432487289"
      ]
     },
     "execution_count": 45,
     "metadata": {},
     "output_type": "execute_result"
    }
   ],
   "source": [
    "loss_values = []\n",
    "for i, j in zip(y.flatten(), y_hat.flatten()):\n",
    "    loss_values.append(-np.log(j) if i == 1 else -np.log(1 - j))\n",
    "\n",
    "np.mean(loss_values)"
   ]
  },
  {
   "cell_type": "markdown",
   "id": "6e2ab110-cf3a-4a84-9ac1-941e6cd19ce5",
   "metadata": {},
   "source": [
    "## Cross Entropy Loss"
   ]
  },
  {
   "cell_type": "code",
   "execution_count": 49,
   "id": "72409c41-2b08-436a-a9a4-326a2e01629e",
   "metadata": {},
   "outputs": [],
   "source": [
    "ce_loss = nn.CrossEntropyLoss()"
   ]
  },
  {
   "cell_type": "code",
   "execution_count": 52,
   "id": "b7b63830-9c79-48bc-a115-3ea7c7c891af",
   "metadata": {},
   "outputs": [],
   "source": [
    "# Assumption: 3 samples, 5 features\n",
    "input_ = torch.randn(3, 5)"
   ]
  },
  {
   "cell_type": "code",
   "execution_count": 60,
   "id": "55d5c2bc-4e04-48f6-acd5-f2ff928fcc0c",
   "metadata": {},
   "outputs": [],
   "source": [
    "target = torch.empty(3, dtype=torch.long).random_(5)"
   ]
  },
  {
   "cell_type": "markdown",
   "id": "f5e31675-8bee-4bfc-b65d-2bc31ca7fddf",
   "metadata": {},
   "source": [
    "**NOTE**:\n",
    "\n",
    "The target should be **ONE DIMENSIONAL** with the limitation of `(0, num_of_classes - 1)` and `dtype=torch.long`\n",
    "\n",
    "Pytorch convert it to a **one_hot encoded** tensor automatically in its calculation."
   ]
  },
  {
   "cell_type": "code",
   "execution_count": 61,
   "id": "81e61c45-87b6-48de-aa6e-1b9107c50e20",
   "metadata": {},
   "outputs": [
    {
     "data": {
      "text/plain": [
       "tensor(3.0094)"
      ]
     },
     "execution_count": 61,
     "metadata": {},
     "output_type": "execute_result"
    }
   ],
   "source": [
    "ce_loss(input_, target)"
   ]
  }
 ],
 "metadata": {
  "kernelspec": {
   "display_name": "Python 3 (ipykernel)",
   "language": "python",
   "name": "python3"
  },
  "language_info": {
   "codemirror_mode": {
    "name": "ipython",
    "version": 3
   },
   "file_extension": ".py",
   "mimetype": "text/x-python",
   "name": "python",
   "nbconvert_exporter": "python",
   "pygments_lexer": "ipython3",
   "version": "3.12.7"
  }
 },
 "nbformat": 4,
 "nbformat_minor": 5
}
